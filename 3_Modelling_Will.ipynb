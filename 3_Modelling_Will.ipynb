{
  "nbformat": 4,
  "nbformat_minor": 0,
  "metadata": {
    "colab": {
      "name": "3_Modelling_Will.ipynb",
      "provenance": [],
      "collapsed_sections": []
    },
    "kernelspec": {
      "display_name": "Python 3",
      "language": "python",
      "name": "python3"
    },
    "language_info": {
      "codemirror_mode": {
        "name": "ipython",
        "version": 3
      },
      "file_extension": ".py",
      "mimetype": "text/x-python",
      "name": "python",
      "nbconvert_exporter": "python",
      "pygments_lexer": "ipython3",
      "version": "3.8.5"
    }
  },
  "cells": [
    {
      "cell_type": "markdown",
      "metadata": {
        "id": "36SgSHWVDaN7"
      },
      "source": [
        "# __Modelling__"
      ]
    },
    {
      "cell_type": "markdown",
      "metadata": {
        "id": "sU0lXBdADmTB",
        "outputId": "e3dc8aa6-d884-4610-b76d-7b2e9233c604"
      },
      "source": [
        "!pip install category_encoders"
      ]
    },
    {
      "cell_type": "code",
      "metadata": {
        "colab": {
          "base_uri": "https://localhost:8080/"
        },
        "id": "lODhdrlnqg5o",
        "outputId": "4186eb15-cc5a-49ca-ae75-0771fc042bc6"
      },
      "source": [
        "!pip install category_encoders"
      ],
      "execution_count": 1,
      "outputs": [
        {
          "output_type": "stream",
          "text": [
            "Requirement already satisfied: category_encoders in /usr/local/lib/python3.7/dist-packages (2.2.2)\n",
            "Requirement already satisfied: scikit-learn>=0.20.0 in /usr/local/lib/python3.7/dist-packages (from category_encoders) (0.22.2.post1)\n",
            "Requirement already satisfied: pandas>=0.21.1 in /usr/local/lib/python3.7/dist-packages (from category_encoders) (1.1.5)\n",
            "Requirement already satisfied: scipy>=1.0.0 in /usr/local/lib/python3.7/dist-packages (from category_encoders) (1.4.1)\n",
            "Requirement already satisfied: patsy>=0.5.1 in /usr/local/lib/python3.7/dist-packages (from category_encoders) (0.5.1)\n",
            "Requirement already satisfied: numpy>=1.14.0 in /usr/local/lib/python3.7/dist-packages (from category_encoders) (1.19.5)\n",
            "Requirement already satisfied: statsmodels>=0.9.0 in /usr/local/lib/python3.7/dist-packages (from category_encoders) (0.10.2)\n",
            "Requirement already satisfied: joblib>=0.11 in /usr/local/lib/python3.7/dist-packages (from scikit-learn>=0.20.0->category_encoders) (1.0.1)\n",
            "Requirement already satisfied: python-dateutil>=2.7.3 in /usr/local/lib/python3.7/dist-packages (from pandas>=0.21.1->category_encoders) (2.8.1)\n",
            "Requirement already satisfied: pytz>=2017.2 in /usr/local/lib/python3.7/dist-packages (from pandas>=0.21.1->category_encoders) (2018.9)\n",
            "Requirement already satisfied: six in /usr/local/lib/python3.7/dist-packages (from patsy>=0.5.1->category_encoders) (1.15.0)\n"
          ],
          "name": "stdout"
        }
      ]
    },
    {
      "cell_type": "code",
      "metadata": {
        "id": "AM84gV9pDaOE",
        "colab": {
          "base_uri": "https://localhost:8080/"
        },
        "outputId": "122180f9-bf11-474c-9cb8-65bcbb6acf58"
      },
      "source": [
        "import numpy as np\n",
        "import pandas as pd\n",
        "import matplotlib.pyplot as plt\n",
        "import seaborn as sns\n",
        "\n",
        "from sklearn.impute import SimpleImputer\n",
        "from sklearn.preprocessing import OneHotEncoder, PolynomialFeatures, RobustScaler\n",
        "from sklearn.compose import ColumnTransformer\n",
        "import category_encoders as ce\n",
        "from sklearn.feature_selection import RFE, SelectKBest, SelectPercentile\n",
        "from sklearn.decomposition import PCA\n",
        "\n",
        "from sklearn.linear_model import LogisticRegression\n",
        "from sklearn.tree import DecisionTreeClassifier\n",
        "from sklearn.ensemble import RandomForestClassifier, AdaBoostClassifier, GradientBoostingClassifier\n",
        "from sklearn.svm import SVC\n",
        "from xgboost.sklearn import XGBClassifier\n",
        "from sklearn.neighbors import KNeighborsClassifier\n",
        "\n",
        "from sklearn.model_selection import train_test_split, GridSearchCV, cross_val_score, StratifiedKFold, RepeatedStratifiedKFold\n",
        "from sklearn.metrics import confusion_matrix, classification_report, f1_score, \\\n",
        "recall_score, precision_score, plot_confusion_matrix, SCORERS, plot_roc_curve, roc_curve,plot_precision_recall_curve, precision_recall_curve\n",
        "\n",
        "from imblearn.pipeline import Pipeline\n",
        "from imblearn.over_sampling import RandomOverSampler, SMOTE\n",
        "from imblearn.under_sampling import RandomUnderSampler\n",
        "\n",
        "import warnings\n",
        "warnings.filterwarnings('ignore')\n",
        "import sklearn\n",
        "\n",
        "%matplotlib inline\n",
        "\n",
        "pd.options.display.max_columns = None\n",
        "# pd.options.display.max_rows = None"
      ],
      "execution_count": 2,
      "outputs": [
        {
          "output_type": "stream",
          "text": [
            "/usr/local/lib/python3.7/dist-packages/statsmodels/tools/_testing.py:19: FutureWarning: pandas.util.testing is deprecated. Use the functions in the public API at pandas.testing instead.\n",
            "  import pandas.util.testing as tm\n",
            "/usr/local/lib/python3.7/dist-packages/sklearn/externals/six.py:31: FutureWarning: The module is deprecated in version 0.21 and will be removed in version 0.23 since we've dropped support for Python 2.7. Please rely on the official version of six (https://pypi.org/project/six/).\n",
            "  \"(https://pypi.org/project/six/).\", FutureWarning)\n",
            "/usr/local/lib/python3.7/dist-packages/sklearn/utils/deprecation.py:144: FutureWarning: The sklearn.neighbors.base module is  deprecated in version 0.22 and will be removed in version 0.24. The corresponding classes / functions should instead be imported from sklearn.neighbors. Anything that cannot be imported from sklearn.neighbors is now part of the private API.\n",
            "  warnings.warn(message, FutureWarning)\n"
          ],
          "name": "stderr"
        }
      ]
    },
    {
      "cell_type": "code",
      "metadata": {
        "colab": {
          "base_uri": "https://localhost:8080/",
          "height": 461
        },
        "id": "AJzGAB9qDaOH",
        "outputId": "fae4023a-9b43-46b7-c1cf-54c03de0cbd1"
      },
      "source": [
        "df = pd.read_csv('hr_clean.csv')\n",
        "df"
      ],
      "execution_count": 3,
      "outputs": [
        {
          "output_type": "execute_result",
          "data": {
            "text/html": [
              "<div>\n",
              "<style scoped>\n",
              "    .dataframe tbody tr th:only-of-type {\n",
              "        vertical-align: middle;\n",
              "    }\n",
              "\n",
              "    .dataframe tbody tr th {\n",
              "        vertical-align: top;\n",
              "    }\n",
              "\n",
              "    .dataframe thead th {\n",
              "        text-align: right;\n",
              "    }\n",
              "</style>\n",
              "<table border=\"1\" class=\"dataframe\">\n",
              "  <thead>\n",
              "    <tr style=\"text-align: right;\">\n",
              "      <th></th>\n",
              "      <th>city</th>\n",
              "      <th>city_development_index</th>\n",
              "      <th>gender</th>\n",
              "      <th>relevent_experience</th>\n",
              "      <th>enrolled_university</th>\n",
              "      <th>education_level</th>\n",
              "      <th>major_discipline</th>\n",
              "      <th>experience</th>\n",
              "      <th>company_size</th>\n",
              "      <th>company_type</th>\n",
              "      <th>last_new_job</th>\n",
              "      <th>training_hours</th>\n",
              "      <th>target</th>\n",
              "    </tr>\n",
              "  </thead>\n",
              "  <tbody>\n",
              "    <tr>\n",
              "      <th>0</th>\n",
              "      <td>city_103</td>\n",
              "      <td>0.920</td>\n",
              "      <td>Male</td>\n",
              "      <td>Has relevent experience</td>\n",
              "      <td>no_enrollment</td>\n",
              "      <td>Graduate</td>\n",
              "      <td>STEM</td>\n",
              "      <td>&gt;20</td>\n",
              "      <td>NaN</td>\n",
              "      <td>NaN</td>\n",
              "      <td>1</td>\n",
              "      <td>36</td>\n",
              "      <td>1.0</td>\n",
              "    </tr>\n",
              "    <tr>\n",
              "      <th>1</th>\n",
              "      <td>city_40</td>\n",
              "      <td>0.776</td>\n",
              "      <td>Male</td>\n",
              "      <td>No relevent experience</td>\n",
              "      <td>no_enrollment</td>\n",
              "      <td>Graduate</td>\n",
              "      <td>STEM</td>\n",
              "      <td>15</td>\n",
              "      <td>50-99</td>\n",
              "      <td>Pvt Ltd</td>\n",
              "      <td>&gt;4</td>\n",
              "      <td>47</td>\n",
              "      <td>0.0</td>\n",
              "    </tr>\n",
              "    <tr>\n",
              "      <th>2</th>\n",
              "      <td>city_21</td>\n",
              "      <td>0.624</td>\n",
              "      <td>NaN</td>\n",
              "      <td>No relevent experience</td>\n",
              "      <td>Full time course</td>\n",
              "      <td>Graduate</td>\n",
              "      <td>STEM</td>\n",
              "      <td>5</td>\n",
              "      <td>NaN</td>\n",
              "      <td>NaN</td>\n",
              "      <td>never</td>\n",
              "      <td>83</td>\n",
              "      <td>0.0</td>\n",
              "    </tr>\n",
              "    <tr>\n",
              "      <th>3</th>\n",
              "      <td>city_115</td>\n",
              "      <td>0.789</td>\n",
              "      <td>NaN</td>\n",
              "      <td>No relevent experience</td>\n",
              "      <td>NaN</td>\n",
              "      <td>Graduate</td>\n",
              "      <td>Business Degree</td>\n",
              "      <td>&lt;1</td>\n",
              "      <td>NaN</td>\n",
              "      <td>Pvt Ltd</td>\n",
              "      <td>never</td>\n",
              "      <td>52</td>\n",
              "      <td>1.0</td>\n",
              "    </tr>\n",
              "    <tr>\n",
              "      <th>4</th>\n",
              "      <td>city_162</td>\n",
              "      <td>0.767</td>\n",
              "      <td>Male</td>\n",
              "      <td>Has relevent experience</td>\n",
              "      <td>no_enrollment</td>\n",
              "      <td>Masters</td>\n",
              "      <td>STEM</td>\n",
              "      <td>&gt;20</td>\n",
              "      <td>50-99</td>\n",
              "      <td>Funded Startup</td>\n",
              "      <td>4</td>\n",
              "      <td>8</td>\n",
              "      <td>0.0</td>\n",
              "    </tr>\n",
              "    <tr>\n",
              "      <th>...</th>\n",
              "      <td>...</td>\n",
              "      <td>...</td>\n",
              "      <td>...</td>\n",
              "      <td>...</td>\n",
              "      <td>...</td>\n",
              "      <td>...</td>\n",
              "      <td>...</td>\n",
              "      <td>...</td>\n",
              "      <td>...</td>\n",
              "      <td>...</td>\n",
              "      <td>...</td>\n",
              "      <td>...</td>\n",
              "      <td>...</td>\n",
              "    </tr>\n",
              "    <tr>\n",
              "      <th>19153</th>\n",
              "      <td>city_173</td>\n",
              "      <td>0.878</td>\n",
              "      <td>Male</td>\n",
              "      <td>No relevent experience</td>\n",
              "      <td>no_enrollment</td>\n",
              "      <td>Graduate</td>\n",
              "      <td>Humanities</td>\n",
              "      <td>14</td>\n",
              "      <td>NaN</td>\n",
              "      <td>NaN</td>\n",
              "      <td>1</td>\n",
              "      <td>42</td>\n",
              "      <td>1.0</td>\n",
              "    </tr>\n",
              "    <tr>\n",
              "      <th>19154</th>\n",
              "      <td>city_103</td>\n",
              "      <td>0.920</td>\n",
              "      <td>Male</td>\n",
              "      <td>Has relevent experience</td>\n",
              "      <td>no_enrollment</td>\n",
              "      <td>Graduate</td>\n",
              "      <td>STEM</td>\n",
              "      <td>14</td>\n",
              "      <td>NaN</td>\n",
              "      <td>NaN</td>\n",
              "      <td>4</td>\n",
              "      <td>52</td>\n",
              "      <td>1.0</td>\n",
              "    </tr>\n",
              "    <tr>\n",
              "      <th>19155</th>\n",
              "      <td>city_103</td>\n",
              "      <td>0.920</td>\n",
              "      <td>Male</td>\n",
              "      <td>Has relevent experience</td>\n",
              "      <td>no_enrollment</td>\n",
              "      <td>Graduate</td>\n",
              "      <td>STEM</td>\n",
              "      <td>&gt;20</td>\n",
              "      <td>50-99</td>\n",
              "      <td>Pvt Ltd</td>\n",
              "      <td>4</td>\n",
              "      <td>44</td>\n",
              "      <td>0.0</td>\n",
              "    </tr>\n",
              "    <tr>\n",
              "      <th>19156</th>\n",
              "      <td>city_65</td>\n",
              "      <td>0.802</td>\n",
              "      <td>Male</td>\n",
              "      <td>Has relevent experience</td>\n",
              "      <td>no_enrollment</td>\n",
              "      <td>High School</td>\n",
              "      <td>NaN</td>\n",
              "      <td>&lt;1</td>\n",
              "      <td>500-999</td>\n",
              "      <td>Pvt Ltd</td>\n",
              "      <td>2</td>\n",
              "      <td>97</td>\n",
              "      <td>0.0</td>\n",
              "    </tr>\n",
              "    <tr>\n",
              "      <th>19157</th>\n",
              "      <td>city_67</td>\n",
              "      <td>0.855</td>\n",
              "      <td>NaN</td>\n",
              "      <td>No relevent experience</td>\n",
              "      <td>no_enrollment</td>\n",
              "      <td>Primary School</td>\n",
              "      <td>NaN</td>\n",
              "      <td>2</td>\n",
              "      <td>NaN</td>\n",
              "      <td>NaN</td>\n",
              "      <td>1</td>\n",
              "      <td>127</td>\n",
              "      <td>0.0</td>\n",
              "    </tr>\n",
              "  </tbody>\n",
              "</table>\n",
              "<p>19158 rows × 13 columns</p>\n",
              "</div>"
            ],
            "text/plain": [
              "           city  city_development_index gender      relevent_experience  \\\n",
              "0      city_103                   0.920   Male  Has relevent experience   \n",
              "1       city_40                   0.776   Male   No relevent experience   \n",
              "2       city_21                   0.624    NaN   No relevent experience   \n",
              "3      city_115                   0.789    NaN   No relevent experience   \n",
              "4      city_162                   0.767   Male  Has relevent experience   \n",
              "...         ...                     ...    ...                      ...   \n",
              "19153  city_173                   0.878   Male   No relevent experience   \n",
              "19154  city_103                   0.920   Male  Has relevent experience   \n",
              "19155  city_103                   0.920   Male  Has relevent experience   \n",
              "19156   city_65                   0.802   Male  Has relevent experience   \n",
              "19157   city_67                   0.855    NaN   No relevent experience   \n",
              "\n",
              "      enrolled_university education_level major_discipline experience  \\\n",
              "0           no_enrollment        Graduate             STEM        >20   \n",
              "1           no_enrollment        Graduate             STEM         15   \n",
              "2        Full time course        Graduate             STEM          5   \n",
              "3                     NaN        Graduate  Business Degree         <1   \n",
              "4           no_enrollment         Masters             STEM        >20   \n",
              "...                   ...             ...              ...        ...   \n",
              "19153       no_enrollment        Graduate       Humanities         14   \n",
              "19154       no_enrollment        Graduate             STEM         14   \n",
              "19155       no_enrollment        Graduate             STEM        >20   \n",
              "19156       no_enrollment     High School              NaN         <1   \n",
              "19157       no_enrollment  Primary School              NaN          2   \n",
              "\n",
              "      company_size    company_type last_new_job  training_hours  target  \n",
              "0              NaN             NaN            1              36     1.0  \n",
              "1            50-99         Pvt Ltd           >4              47     0.0  \n",
              "2              NaN             NaN        never              83     0.0  \n",
              "3              NaN         Pvt Ltd        never              52     1.0  \n",
              "4            50-99  Funded Startup            4               8     0.0  \n",
              "...            ...             ...          ...             ...     ...  \n",
              "19153          NaN             NaN            1              42     1.0  \n",
              "19154          NaN             NaN            4              52     1.0  \n",
              "19155        50-99         Pvt Ltd            4              44     0.0  \n",
              "19156      500-999         Pvt Ltd            2              97     0.0  \n",
              "19157          NaN             NaN            1             127     0.0  \n",
              "\n",
              "[19158 rows x 13 columns]"
            ]
          },
          "metadata": {
            "tags": []
          },
          "execution_count": 3
        }
      ]
    },
    {
      "cell_type": "code",
      "metadata": {
        "colab": {
          "base_uri": "https://localhost:8080/"
        },
        "id": "aOnAcNGbDaOL",
        "outputId": "240884a2-8b87-4a52-d082-8aee668945e3"
      },
      "source": [
        "df['gender'].value_counts()"
      ],
      "execution_count": 4,
      "outputs": [
        {
          "output_type": "execute_result",
          "data": {
            "text/plain": [
              "Male      13412\n",
              "Female     1238\n",
              "Name: gender, dtype: int64"
            ]
          },
          "metadata": {
            "tags": []
          },
          "execution_count": 4
        }
      ]
    },
    {
      "cell_type": "code",
      "metadata": {
        "colab": {
          "base_uri": "https://localhost:8080/"
        },
        "id": "aPx5-u2LDaON",
        "outputId": "e534ded8-727f-428f-d03a-8c647513ae5c"
      },
      "source": [
        "df['company_size'].value_counts()"
      ],
      "execution_count": 5,
      "outputs": [
        {
          "output_type": "execute_result",
          "data": {
            "text/plain": [
              "50-99        3083\n",
              "100-500      2571\n",
              "10000+       2019\n",
              "10-49        1471\n",
              "1000-4999    1328\n",
              "<10          1308\n",
              "500-999       877\n",
              "5000-9999     563\n",
              "Name: company_size, dtype: int64"
            ]
          },
          "metadata": {
            "tags": []
          },
          "execution_count": 5
        }
      ]
    },
    {
      "cell_type": "code",
      "metadata": {
        "colab": {
          "base_uri": "https://localhost:8080/"
        },
        "id": "AWlxByiwDaOO",
        "outputId": "c7bf28ca-eb51-4f6a-b954-156ded0531e5"
      },
      "source": [
        "df.isna().sum()/len(df)*100"
      ],
      "execution_count": 6,
      "outputs": [
        {
          "output_type": "execute_result",
          "data": {
            "text/plain": [
              "city                       0.000000\n",
              "city_development_index     0.000000\n",
              "gender                    23.530640\n",
              "relevent_experience        0.000000\n",
              "enrolled_university        2.014824\n",
              "education_level            2.401086\n",
              "major_discipline          14.683161\n",
              "experience                 0.339284\n",
              "company_size              30.994885\n",
              "company_type              32.049274\n",
              "last_new_job               2.207955\n",
              "training_hours             0.000000\n",
              "target                     0.000000\n",
              "dtype: float64"
            ]
          },
          "metadata": {
            "tags": []
          },
          "execution_count": 6
        }
      ]
    },
    {
      "cell_type": "code",
      "metadata": {
        "colab": {
          "base_uri": "https://localhost:8080/",
          "height": 244
        },
        "id": "I-z3SDSjDaOQ",
        "outputId": "7182183f-cbfe-4749-8b89-6a4858fa1b48"
      },
      "source": [
        "df2 = df.drop(['training_hours'], axis=1).copy()\n",
        "df2.head()"
      ],
      "execution_count": 7,
      "outputs": [
        {
          "output_type": "execute_result",
          "data": {
            "text/html": [
              "<div>\n",
              "<style scoped>\n",
              "    .dataframe tbody tr th:only-of-type {\n",
              "        vertical-align: middle;\n",
              "    }\n",
              "\n",
              "    .dataframe tbody tr th {\n",
              "        vertical-align: top;\n",
              "    }\n",
              "\n",
              "    .dataframe thead th {\n",
              "        text-align: right;\n",
              "    }\n",
              "</style>\n",
              "<table border=\"1\" class=\"dataframe\">\n",
              "  <thead>\n",
              "    <tr style=\"text-align: right;\">\n",
              "      <th></th>\n",
              "      <th>city</th>\n",
              "      <th>city_development_index</th>\n",
              "      <th>gender</th>\n",
              "      <th>relevent_experience</th>\n",
              "      <th>enrolled_university</th>\n",
              "      <th>education_level</th>\n",
              "      <th>major_discipline</th>\n",
              "      <th>experience</th>\n",
              "      <th>company_size</th>\n",
              "      <th>company_type</th>\n",
              "      <th>last_new_job</th>\n",
              "      <th>target</th>\n",
              "    </tr>\n",
              "  </thead>\n",
              "  <tbody>\n",
              "    <tr>\n",
              "      <th>0</th>\n",
              "      <td>city_103</td>\n",
              "      <td>0.920</td>\n",
              "      <td>Male</td>\n",
              "      <td>Has relevent experience</td>\n",
              "      <td>no_enrollment</td>\n",
              "      <td>Graduate</td>\n",
              "      <td>STEM</td>\n",
              "      <td>&gt;20</td>\n",
              "      <td>NaN</td>\n",
              "      <td>NaN</td>\n",
              "      <td>1</td>\n",
              "      <td>1.0</td>\n",
              "    </tr>\n",
              "    <tr>\n",
              "      <th>1</th>\n",
              "      <td>city_40</td>\n",
              "      <td>0.776</td>\n",
              "      <td>Male</td>\n",
              "      <td>No relevent experience</td>\n",
              "      <td>no_enrollment</td>\n",
              "      <td>Graduate</td>\n",
              "      <td>STEM</td>\n",
              "      <td>15</td>\n",
              "      <td>50-99</td>\n",
              "      <td>Pvt Ltd</td>\n",
              "      <td>&gt;4</td>\n",
              "      <td>0.0</td>\n",
              "    </tr>\n",
              "    <tr>\n",
              "      <th>2</th>\n",
              "      <td>city_21</td>\n",
              "      <td>0.624</td>\n",
              "      <td>NaN</td>\n",
              "      <td>No relevent experience</td>\n",
              "      <td>Full time course</td>\n",
              "      <td>Graduate</td>\n",
              "      <td>STEM</td>\n",
              "      <td>5</td>\n",
              "      <td>NaN</td>\n",
              "      <td>NaN</td>\n",
              "      <td>never</td>\n",
              "      <td>0.0</td>\n",
              "    </tr>\n",
              "    <tr>\n",
              "      <th>3</th>\n",
              "      <td>city_115</td>\n",
              "      <td>0.789</td>\n",
              "      <td>NaN</td>\n",
              "      <td>No relevent experience</td>\n",
              "      <td>NaN</td>\n",
              "      <td>Graduate</td>\n",
              "      <td>Business Degree</td>\n",
              "      <td>&lt;1</td>\n",
              "      <td>NaN</td>\n",
              "      <td>Pvt Ltd</td>\n",
              "      <td>never</td>\n",
              "      <td>1.0</td>\n",
              "    </tr>\n",
              "    <tr>\n",
              "      <th>4</th>\n",
              "      <td>city_162</td>\n",
              "      <td>0.767</td>\n",
              "      <td>Male</td>\n",
              "      <td>Has relevent experience</td>\n",
              "      <td>no_enrollment</td>\n",
              "      <td>Masters</td>\n",
              "      <td>STEM</td>\n",
              "      <td>&gt;20</td>\n",
              "      <td>50-99</td>\n",
              "      <td>Funded Startup</td>\n",
              "      <td>4</td>\n",
              "      <td>0.0</td>\n",
              "    </tr>\n",
              "  </tbody>\n",
              "</table>\n",
              "</div>"
            ],
            "text/plain": [
              "       city  city_development_index gender      relevent_experience  \\\n",
              "0  city_103                   0.920   Male  Has relevent experience   \n",
              "1   city_40                   0.776   Male   No relevent experience   \n",
              "2   city_21                   0.624    NaN   No relevent experience   \n",
              "3  city_115                   0.789    NaN   No relevent experience   \n",
              "4  city_162                   0.767   Male  Has relevent experience   \n",
              "\n",
              "  enrolled_university education_level major_discipline experience  \\\n",
              "0       no_enrollment        Graduate             STEM        >20   \n",
              "1       no_enrollment        Graduate             STEM         15   \n",
              "2    Full time course        Graduate             STEM          5   \n",
              "3                 NaN        Graduate  Business Degree         <1   \n",
              "4       no_enrollment         Masters             STEM        >20   \n",
              "\n",
              "  company_size    company_type last_new_job  target  \n",
              "0          NaN             NaN            1     1.0  \n",
              "1        50-99         Pvt Ltd           >4     0.0  \n",
              "2          NaN             NaN        never     0.0  \n",
              "3          NaN         Pvt Ltd        never     1.0  \n",
              "4        50-99  Funded Startup            4     0.0  "
            ]
          },
          "metadata": {
            "tags": []
          },
          "execution_count": 7
        }
      ]
    },
    {
      "cell_type": "code",
      "metadata": {
        "colab": {
          "base_uri": "https://localhost:8080/",
          "height": 244
        },
        "id": "yv008c1ZDaOQ",
        "outputId": "23c70432-2d5f-4b66-c4da-d7a2a323cd0f"
      },
      "source": [
        "df.head()"
      ],
      "execution_count": 8,
      "outputs": [
        {
          "output_type": "execute_result",
          "data": {
            "text/html": [
              "<div>\n",
              "<style scoped>\n",
              "    .dataframe tbody tr th:only-of-type {\n",
              "        vertical-align: middle;\n",
              "    }\n",
              "\n",
              "    .dataframe tbody tr th {\n",
              "        vertical-align: top;\n",
              "    }\n",
              "\n",
              "    .dataframe thead th {\n",
              "        text-align: right;\n",
              "    }\n",
              "</style>\n",
              "<table border=\"1\" class=\"dataframe\">\n",
              "  <thead>\n",
              "    <tr style=\"text-align: right;\">\n",
              "      <th></th>\n",
              "      <th>city</th>\n",
              "      <th>city_development_index</th>\n",
              "      <th>gender</th>\n",
              "      <th>relevent_experience</th>\n",
              "      <th>enrolled_university</th>\n",
              "      <th>education_level</th>\n",
              "      <th>major_discipline</th>\n",
              "      <th>experience</th>\n",
              "      <th>company_size</th>\n",
              "      <th>company_type</th>\n",
              "      <th>last_new_job</th>\n",
              "      <th>training_hours</th>\n",
              "      <th>target</th>\n",
              "    </tr>\n",
              "  </thead>\n",
              "  <tbody>\n",
              "    <tr>\n",
              "      <th>0</th>\n",
              "      <td>city_103</td>\n",
              "      <td>0.920</td>\n",
              "      <td>Male</td>\n",
              "      <td>Has relevent experience</td>\n",
              "      <td>no_enrollment</td>\n",
              "      <td>Graduate</td>\n",
              "      <td>STEM</td>\n",
              "      <td>&gt;20</td>\n",
              "      <td>NaN</td>\n",
              "      <td>NaN</td>\n",
              "      <td>1</td>\n",
              "      <td>36</td>\n",
              "      <td>1.0</td>\n",
              "    </tr>\n",
              "    <tr>\n",
              "      <th>1</th>\n",
              "      <td>city_40</td>\n",
              "      <td>0.776</td>\n",
              "      <td>Male</td>\n",
              "      <td>No relevent experience</td>\n",
              "      <td>no_enrollment</td>\n",
              "      <td>Graduate</td>\n",
              "      <td>STEM</td>\n",
              "      <td>15</td>\n",
              "      <td>50-99</td>\n",
              "      <td>Pvt Ltd</td>\n",
              "      <td>&gt;4</td>\n",
              "      <td>47</td>\n",
              "      <td>0.0</td>\n",
              "    </tr>\n",
              "    <tr>\n",
              "      <th>2</th>\n",
              "      <td>city_21</td>\n",
              "      <td>0.624</td>\n",
              "      <td>NaN</td>\n",
              "      <td>No relevent experience</td>\n",
              "      <td>Full time course</td>\n",
              "      <td>Graduate</td>\n",
              "      <td>STEM</td>\n",
              "      <td>5</td>\n",
              "      <td>NaN</td>\n",
              "      <td>NaN</td>\n",
              "      <td>never</td>\n",
              "      <td>83</td>\n",
              "      <td>0.0</td>\n",
              "    </tr>\n",
              "    <tr>\n",
              "      <th>3</th>\n",
              "      <td>city_115</td>\n",
              "      <td>0.789</td>\n",
              "      <td>NaN</td>\n",
              "      <td>No relevent experience</td>\n",
              "      <td>NaN</td>\n",
              "      <td>Graduate</td>\n",
              "      <td>Business Degree</td>\n",
              "      <td>&lt;1</td>\n",
              "      <td>NaN</td>\n",
              "      <td>Pvt Ltd</td>\n",
              "      <td>never</td>\n",
              "      <td>52</td>\n",
              "      <td>1.0</td>\n",
              "    </tr>\n",
              "    <tr>\n",
              "      <th>4</th>\n",
              "      <td>city_162</td>\n",
              "      <td>0.767</td>\n",
              "      <td>Male</td>\n",
              "      <td>Has relevent experience</td>\n",
              "      <td>no_enrollment</td>\n",
              "      <td>Masters</td>\n",
              "      <td>STEM</td>\n",
              "      <td>&gt;20</td>\n",
              "      <td>50-99</td>\n",
              "      <td>Funded Startup</td>\n",
              "      <td>4</td>\n",
              "      <td>8</td>\n",
              "      <td>0.0</td>\n",
              "    </tr>\n",
              "  </tbody>\n",
              "</table>\n",
              "</div>"
            ],
            "text/plain": [
              "       city  city_development_index gender      relevent_experience  \\\n",
              "0  city_103                   0.920   Male  Has relevent experience   \n",
              "1   city_40                   0.776   Male   No relevent experience   \n",
              "2   city_21                   0.624    NaN   No relevent experience   \n",
              "3  city_115                   0.789    NaN   No relevent experience   \n",
              "4  city_162                   0.767   Male  Has relevent experience   \n",
              "\n",
              "  enrolled_university education_level major_discipline experience  \\\n",
              "0       no_enrollment        Graduate             STEM        >20   \n",
              "1       no_enrollment        Graduate             STEM         15   \n",
              "2    Full time course        Graduate             STEM          5   \n",
              "3                 NaN        Graduate  Business Degree         <1   \n",
              "4       no_enrollment         Masters             STEM        >20   \n",
              "\n",
              "  company_size    company_type last_new_job  training_hours  target  \n",
              "0          NaN             NaN            1              36     1.0  \n",
              "1        50-99         Pvt Ltd           >4              47     0.0  \n",
              "2          NaN             NaN        never              83     0.0  \n",
              "3          NaN         Pvt Ltd        never              52     1.0  \n",
              "4        50-99  Funded Startup            4               8     0.0  "
            ]
          },
          "metadata": {
            "tags": []
          },
          "execution_count": 8
        }
      ]
    },
    {
      "cell_type": "code",
      "metadata": {
        "colab": {
          "base_uri": "https://localhost:8080/"
        },
        "id": "xMjRJaI9k1JX",
        "outputId": "4e85713c-2c0f-4601-fa87-3c8af709f6e0"
      },
      "source": [
        "df2.columns.nunique()"
      ],
      "execution_count": 9,
      "outputs": [
        {
          "output_type": "execute_result",
          "data": {
            "text/plain": [
              "12"
            ]
          },
          "metadata": {
            "tags": []
          },
          "execution_count": 9
        }
      ]
    },
    {
      "cell_type": "code",
      "metadata": {
        "colab": {
          "base_uri": "https://localhost:8080/"
        },
        "id": "jsl09NyRlTOB",
        "outputId": "b184114a-725d-41bf-c839-8f23914def88"
      },
      "source": [
        "df2.columns"
      ],
      "execution_count": 10,
      "outputs": [
        {
          "output_type": "execute_result",
          "data": {
            "text/plain": [
              "Index(['city', 'city_development_index', 'gender', 'relevent_experience',\n",
              "       'enrolled_university', 'education_level', 'major_discipline',\n",
              "       'experience', 'company_size', 'company_type', 'last_new_job', 'target'],\n",
              "      dtype='object')"
            ]
          },
          "metadata": {
            "tags": []
          },
          "execution_count": 10
        }
      ]
    },
    {
      "cell_type": "code",
      "metadata": {
        "id": "FAOQ4zBeDaOR"
      },
      "source": [
        "X = df2.drop(columns='target')\n",
        "y = df2['target'].astype('int')\n",
        "\n",
        "X_train_val, X_test, y_train_val, y_test = train_test_split(X,y,test_size=.2, stratify=y, random_state=2021)"
      ],
      "execution_count": 11,
      "outputs": []
    },
    {
      "cell_type": "markdown",
      "metadata": {
        "id": "vrN1VODjqeQe"
      },
      "source": [
        "## __Base Models__"
      ]
    },
    {
      "cell_type": "markdown",
      "metadata": {
        "id": "Go64siqmTAG6"
      },
      "source": [
        "The target was imbalance. There are 2 ways of technique was used to balance the target:\r\n",
        "\r\n",
        "1. Setting the parameter \"(class_weight='balanced')\" for models which have it and their \"random_state\" parameter respectively.\r\n",
        "1. Using SMOTE oversampling method and setting the \"random_state\" parameter for models that don't have \"class_weight\" parameter.\r\n"
      ]
    },
    {
      "cell_type": "code",
      "metadata": {
        "id": "S-jpApucDaOS"
      },
      "source": [
        "LogReg = LogisticRegression(random_state=2021, class_weight='balanced')\n",
        "dtc = DecisionTreeClassifier(random_state=2021, class_weight='balanced')\n",
        "rfc = RandomForestClassifier(random_state=2021, class_weight='balanced')\n",
        "svc = SVC(random_state=2021, class_weight='balanced')\n",
        "abc = AdaBoostClassifier(random_state=2021)\n",
        "gbc = GradientBoostingClassifier(random_state=2021)\n",
        "xgb = XGBClassifier(random_state=2021)\n",
        "knc = KNeighborsClassifier()"
      ],
      "execution_count": 12,
      "outputs": []
    },
    {
      "cell_type": "code",
      "metadata": {
        "colab": {
          "base_uri": "https://localhost:8080/"
        },
        "id": "DA7I9JF-DaOT",
        "outputId": "9392bab5-692d-4933-b515-fe2faafd0e71"
      },
      "source": [
        "sklearn.metrics.SCORERS.keys()"
      ],
      "execution_count": 13,
      "outputs": [
        {
          "output_type": "execute_result",
          "data": {
            "text/plain": [
              "dict_keys(['explained_variance', 'r2', 'max_error', 'neg_median_absolute_error', 'neg_mean_absolute_error', 'neg_mean_squared_error', 'neg_mean_squared_log_error', 'neg_root_mean_squared_error', 'neg_mean_poisson_deviance', 'neg_mean_gamma_deviance', 'accuracy', 'roc_auc', 'roc_auc_ovr', 'roc_auc_ovo', 'roc_auc_ovr_weighted', 'roc_auc_ovo_weighted', 'balanced_accuracy', 'average_precision', 'neg_log_loss', 'neg_brier_score', 'adjusted_rand_score', 'homogeneity_score', 'completeness_score', 'v_measure_score', 'mutual_info_score', 'adjusted_mutual_info_score', 'normalized_mutual_info_score', 'fowlkes_mallows_score', 'precision', 'precision_macro', 'precision_micro', 'precision_samples', 'precision_weighted', 'recall', 'recall_macro', 'recall_micro', 'recall_samples', 'recall_weighted', 'f1', 'f1_macro', 'f1_micro', 'f1_samples', 'f1_weighted', 'jaccard', 'jaccard_macro', 'jaccard_micro', 'jaccard_samples', 'jaccard_weighted'])"
            ]
          },
          "metadata": {
            "tags": []
          },
          "execution_count": 13
        }
      ]
    },
    {
      "cell_type": "code",
      "metadata": {
        "colab": {
          "base_uri": "https://localhost:8080/"
        },
        "id": "PFQeKgMdDaOV",
        "outputId": "38857609-5617-43a8-f0e0-c469f0941ac1"
      },
      "source": [
        "df2.info()"
      ],
      "execution_count": 14,
      "outputs": [
        {
          "output_type": "stream",
          "text": [
            "<class 'pandas.core.frame.DataFrame'>\n",
            "RangeIndex: 19158 entries, 0 to 19157\n",
            "Data columns (total 12 columns):\n",
            " #   Column                  Non-Null Count  Dtype  \n",
            "---  ------                  --------------  -----  \n",
            " 0   city                    19158 non-null  object \n",
            " 1   city_development_index  19158 non-null  float64\n",
            " 2   gender                  14650 non-null  object \n",
            " 3   relevent_experience     19158 non-null  object \n",
            " 4   enrolled_university     18772 non-null  object \n",
            " 5   education_level         18698 non-null  object \n",
            " 6   major_discipline        16345 non-null  object \n",
            " 7   experience              19093 non-null  object \n",
            " 8   company_size            13220 non-null  object \n",
            " 9   company_type            13018 non-null  object \n",
            " 10  last_new_job            18735 non-null  object \n",
            " 11  target                  19158 non-null  float64\n",
            "dtypes: float64(2), object(10)\n",
            "memory usage: 1.8+ MB\n"
          ],
          "name": "stdout"
        }
      ]
    },
    {
      "cell_type": "code",
      "metadata": {
        "id": "GrqmOLjgDaOV"
      },
      "source": [
        "mis_columns = ['gender', 'enrolled_university', 'education_level', 'major_discipline', 'experience', 'company_size', 'company_type', 'last_new_job']\n",
        "cat_columns = ['city', 'gender', 'relevent_experience', 'enrolled_university', 'major_discipline', 'company_type']\n",
        "ord_columns = ['education_level', 'experience', 'company_size', 'last_new_job']"
      ],
      "execution_count": 15,
      "outputs": []
    },
    {
      "cell_type": "code",
      "metadata": {
        "colab": {
          "base_uri": "https://localhost:8080/",
          "height": 101
        },
        "id": "qKEx6HzyDaOW",
        "outputId": "5a6508fc-907a-4c9b-f67b-525c738e5c21"
      },
      "source": [
        "df2.head(1)"
      ],
      "execution_count": 16,
      "outputs": [
        {
          "output_type": "execute_result",
          "data": {
            "text/html": [
              "<div>\n",
              "<style scoped>\n",
              "    .dataframe tbody tr th:only-of-type {\n",
              "        vertical-align: middle;\n",
              "    }\n",
              "\n",
              "    .dataframe tbody tr th {\n",
              "        vertical-align: top;\n",
              "    }\n",
              "\n",
              "    .dataframe thead th {\n",
              "        text-align: right;\n",
              "    }\n",
              "</style>\n",
              "<table border=\"1\" class=\"dataframe\">\n",
              "  <thead>\n",
              "    <tr style=\"text-align: right;\">\n",
              "      <th></th>\n",
              "      <th>city</th>\n",
              "      <th>city_development_index</th>\n",
              "      <th>gender</th>\n",
              "      <th>relevent_experience</th>\n",
              "      <th>enrolled_university</th>\n",
              "      <th>education_level</th>\n",
              "      <th>major_discipline</th>\n",
              "      <th>experience</th>\n",
              "      <th>company_size</th>\n",
              "      <th>company_type</th>\n",
              "      <th>last_new_job</th>\n",
              "      <th>target</th>\n",
              "    </tr>\n",
              "  </thead>\n",
              "  <tbody>\n",
              "    <tr>\n",
              "      <th>0</th>\n",
              "      <td>city_103</td>\n",
              "      <td>0.92</td>\n",
              "      <td>Male</td>\n",
              "      <td>Has relevent experience</td>\n",
              "      <td>no_enrollment</td>\n",
              "      <td>Graduate</td>\n",
              "      <td>STEM</td>\n",
              "      <td>&gt;20</td>\n",
              "      <td>NaN</td>\n",
              "      <td>NaN</td>\n",
              "      <td>1</td>\n",
              "      <td>1.0</td>\n",
              "    </tr>\n",
              "  </tbody>\n",
              "</table>\n",
              "</div>"
            ],
            "text/plain": [
              "       city  city_development_index gender      relevent_experience  \\\n",
              "0  city_103                    0.92   Male  Has relevent experience   \n",
              "\n",
              "  enrolled_university education_level major_discipline experience  \\\n",
              "0       no_enrollment        Graduate             STEM        >20   \n",
              "\n",
              "  company_size company_type last_new_job  target  \n",
              "0          NaN          NaN            1     1.0  "
            ]
          },
          "metadata": {
            "tags": []
          },
          "execution_count": 16
        }
      ]
    },
    {
      "cell_type": "code",
      "metadata": {
        "id": "dFU6IWvOHVcl"
      },
      "source": [
        "lg_scale = Pipeline([\r\n",
        "    ('scaler', RobustScaler())\r\n",
        "])\r\n",
        "\r\n",
        "lg_pipe_cat = Pipeline([\r\n",
        "    ('imputer', SimpleImputer(strategy = 'most_frequent', missing_values = np.nan)),\r\n",
        "    ('binary', ce.BinaryEncoder())\r\n",
        "])\r\n",
        "\r\n",
        "ord_pipe = Pipeline([\r\n",
        "    ('imputer', SimpleImputer(strategy = 'most_frequent', missing_values = np.nan)),\r\n",
        "    ('ordinal', ce.OrdinalEncoder()) \r\n",
        "])\r\n",
        "\r\n",
        "transformer = ColumnTransformer([\r\n",
        "    ('num', lg_scale, ['city_development_index']),\r\n",
        "    ('poly', PolynomialFeatures(include_bias=False, degree=3), ['city_development_index']),\r\n",
        "    ('cat', lg_pipe_cat, ['city', 'gender', 'relevent_experience', 'enrolled_university', 'major_discipline', 'company_type']),\r\n",
        "    ('ord', ord_pipe, ['education_level', 'experience', 'company_size', 'last_new_job'])\r\n",
        "], remainder = 'passthrough')\r\n"
      ],
      "execution_count": 17,
      "outputs": []
    },
    {
      "cell_type": "code",
      "metadata": {
        "id": "YZujJM-KDaOX"
      },
      "source": [
        "lg_pipe_all = Pipeline([\n",
        "    ('transformer', transformer),\n",
        "    ('all_logit', LogReg)\n",
        "])"
      ],
      "execution_count": 18,
      "outputs": []
    },
    {
      "cell_type": "code",
      "metadata": {
        "colab": {
          "base_uri": "https://localhost:8080/"
        },
        "id": "6SevQEggDaOX",
        "outputId": "809713da-88f5-43aa-f51e-069908de5078"
      },
      "source": [
        "y"
      ],
      "execution_count": 19,
      "outputs": [
        {
          "output_type": "execute_result",
          "data": {
            "text/plain": [
              "0        1\n",
              "1        0\n",
              "2        0\n",
              "3        1\n",
              "4        0\n",
              "        ..\n",
              "19153    1\n",
              "19154    1\n",
              "19155    0\n",
              "19156    0\n",
              "19157    0\n",
              "Name: target, Length: 19158, dtype: int64"
            ]
          },
          "metadata": {
            "tags": []
          },
          "execution_count": 19
        }
      ]
    },
    {
      "cell_type": "code",
      "metadata": {
        "colab": {
          "base_uri": "https://localhost:8080/"
        },
        "id": "2Njc6-m_DaOX",
        "outputId": "39c01873-a29a-4957-a92e-0892562bb80a"
      },
      "source": [
        "rskf = RepeatedStratifiedKFold(random_state=2021)\n",
        "lg_cv = cross_val_score(lg_pipe_all, X_train_val, y_train_val, cv = rskf, scoring='recall', verbose = 1, n_jobs = -1)"
      ],
      "execution_count": 20,
      "outputs": [
        {
          "output_type": "stream",
          "text": [
            "[Parallel(n_jobs=-1)]: Using backend LokyBackend with 2 concurrent workers.\n",
            "[Parallel(n_jobs=-1)]: Done  46 tasks      | elapsed:   25.5s\n",
            "[Parallel(n_jobs=-1)]: Done  50 out of  50 | elapsed:   27.3s finished\n"
          ],
          "name": "stderr"
        }
      ]
    },
    {
      "cell_type": "code",
      "metadata": {
        "colab": {
          "base_uri": "https://localhost:8080/"
        },
        "id": "oy74YNeEDaOZ",
        "outputId": "dd1923b4-8749-4447-904d-d42a59e39220"
      },
      "source": [
        "print('CV Logistic Regression', lg_cv)\n",
        "print('CV Logistic Regression', lg_cv.mean())"
      ],
      "execution_count": 21,
      "outputs": [
        {
          "output_type": "stream",
          "text": [
            "CV Logistic Regression [0.63267974 0.66928105 0.66361257 0.65837696 0.66230366 0.61830065\n",
            " 0.64705882 0.65445026 0.66492147 0.67801047 0.65751634 0.65882353\n",
            " 0.65183246 0.65575916 0.65445026 0.62091503 0.6745098  0.65445026\n",
            " 0.68848168 0.64397906 0.6496732  0.65620915 0.64790576 0.65575916\n",
            " 0.68324607 0.65751634 0.65882353 0.64005236 0.66230366 0.64136126\n",
            " 0.66666667 0.6379085  0.66230366 0.64921466 0.67408377 0.67581699\n",
            " 0.67189542 0.62565445 0.65706806 0.65968586 0.67189542 0.64183007\n",
            " 0.65968586 0.65837696 0.64267016 0.69934641 0.65228758 0.64528796\n",
            " 0.65183246 0.65183246]\n",
            "CV Logistic Regression 0.6563581425589433\n"
          ],
          "name": "stdout"
        }
      ]
    },
    {
      "cell_type": "code",
      "metadata": {
        "id": "LP4b9j9RDaOZ"
      },
      "source": [
        "dtc_pipe_all = Pipeline([\r\n",
        "    ('transformer', transformer),\r\n",
        "    ('all_dtc', dtc)\r\n",
        "])"
      ],
      "execution_count": 22,
      "outputs": []
    },
    {
      "cell_type": "code",
      "metadata": {
        "colab": {
          "base_uri": "https://localhost:8080/"
        },
        "id": "1HHYFvWZIrXN",
        "outputId": "48cc16d9-4de8-4569-dcb0-c09df9d9ca5c"
      },
      "source": [
        "rskf = RepeatedStratifiedKFold(random_state=2021)\r\n",
        "dtc_cv = cross_val_score(dtc_pipe_all, X_train_val, y_train_val, cv = rskf, scoring='recall', verbose = 1, n_jobs = -1)"
      ],
      "execution_count": 23,
      "outputs": [
        {
          "output_type": "stream",
          "text": [
            "[Parallel(n_jobs=-1)]: Using backend LokyBackend with 2 concurrent workers.\n",
            "[Parallel(n_jobs=-1)]: Done  46 tasks      | elapsed:   18.8s\n",
            "[Parallel(n_jobs=-1)]: Done  50 out of  50 | elapsed:   20.3s finished\n"
          ],
          "name": "stderr"
        }
      ]
    },
    {
      "cell_type": "code",
      "metadata": {
        "colab": {
          "base_uri": "https://localhost:8080/"
        },
        "id": "ZH0apJPdJXJm",
        "outputId": "efb96b9b-843b-4153-c67b-f45cb77afb23"
      },
      "source": [
        "print('CV Decision Tree Classifier', dtc_cv)\r\n",
        "print('CV Decision Tree Classifier', dtc_cv.mean())"
      ],
      "execution_count": 24,
      "outputs": [
        {
          "output_type": "stream",
          "text": [
            "CV Decision Tree Classifier [0.48104575 0.48627451 0.5039267  0.4921466  0.51570681 0.46666667\n",
            " 0.51111111 0.5078534  0.4921466  0.51701571 0.49803922 0.50196078\n",
            " 0.4882199  0.5013089  0.5091623  0.45228758 0.47058824 0.5091623\n",
            " 0.54319372 0.5026178  0.48888889 0.50457516 0.47120419 0.4895288\n",
            " 0.5        0.51633987 0.49411765 0.4934555  0.5078534  0.5039267\n",
            " 0.52810458 0.47189542 0.52617801 0.48429319 0.45680628 0.52156863\n",
            " 0.4745098  0.4895288  0.51439791 0.47382199 0.49150327 0.49281046\n",
            " 0.5052356  0.5104712  0.48691099 0.52941176 0.46405229 0.48560209\n",
            " 0.4960733  0.48036649]\n",
            "CV Decision Tree Classifier 0.49607733634466\n"
          ],
          "name": "stdout"
        }
      ]
    },
    {
      "cell_type": "code",
      "metadata": {
        "id": "FFWQQHOiJnor"
      },
      "source": [
        "rfc_pipe_all = Pipeline([\r\n",
        "    ('transformer', transformer),\r\n",
        "    ('all_rfc', rfc)\r\n",
        "])"
      ],
      "execution_count": 25,
      "outputs": []
    },
    {
      "cell_type": "code",
      "metadata": {
        "colab": {
          "base_uri": "https://localhost:8080/"
        },
        "id": "cpv6u5tJJwQl",
        "outputId": "8aa6db43-242e-4ea4-f869-6d011b6cc4bd"
      },
      "source": [
        "rskf = RepeatedStratifiedKFold(random_state=2021)\r\n",
        "rfc_cv = cross_val_score(rfc_pipe_all, X_train_val, y_train_val, cv = rskf, scoring='recall', verbose = 1, n_jobs = -1)"
      ],
      "execution_count": 26,
      "outputs": [
        {
          "output_type": "stream",
          "text": [
            "[Parallel(n_jobs=-1)]: Using backend LokyBackend with 2 concurrent workers.\n",
            "[Parallel(n_jobs=-1)]: Done  46 tasks      | elapsed:  1.1min\n",
            "[Parallel(n_jobs=-1)]: Done  50 out of  50 | elapsed:  1.2min finished\n"
          ],
          "name": "stderr"
        }
      ]
    },
    {
      "cell_type": "code",
      "metadata": {
        "colab": {
          "base_uri": "https://localhost:8080/"
        },
        "id": "6vmRQ0NKKLhl",
        "outputId": "bab6e7bc-feeb-4281-c95a-54902295bf0d"
      },
      "source": [
        "print('CV Random Forest Classifier ', rfc_cv)\r\n",
        "print('CV Random Forest Classifier', rfc_cv.mean())"
      ],
      "execution_count": 27,
      "outputs": [
        {
          "output_type": "stream",
          "text": [
            "CV Random Forest Classifier  [0.42352941 0.4248366  0.46858639 0.46989529 0.46596859 0.42745098\n",
            " 0.46666667 0.47120419 0.45680628 0.48429319 0.45359477 0.46013072\n",
            " 0.46596859 0.45811518 0.45811518 0.4130719  0.44052288 0.47251309\n",
            " 0.5039267  0.45026178 0.46405229 0.43267974 0.46727749 0.43586387\n",
            " 0.47382199 0.47058824 0.43529412 0.42670157 0.46204188 0.44895288\n",
            " 0.47581699 0.42875817 0.45942408 0.46465969 0.43324607 0.47843137\n",
            " 0.45098039 0.42277487 0.44764398 0.46204188 0.43921569 0.43006536\n",
            " 0.46989529 0.44633508 0.45811518 0.47973856 0.4496732  0.46727749\n",
            " 0.44764398 0.45811518]\n",
            "CV Random Forest Classifier 0.454451699004209\n"
          ],
          "name": "stdout"
        }
      ]
    },
    {
      "cell_type": "code",
      "metadata": {
        "id": "6zem8q_FKRbt"
      },
      "source": [
        "svc_pipe_all = Pipeline([\r\n",
        "    ('transformer', transformer),\r\n",
        "    ('all_svc', svc)\r\n",
        "])"
      ],
      "execution_count": 28,
      "outputs": []
    },
    {
      "cell_type": "code",
      "metadata": {
        "colab": {
          "base_uri": "https://localhost:8080/"
        },
        "id": "Ujp506raKdUM",
        "outputId": "6daaffa5-5480-4ddd-b539-394413431ada"
      },
      "source": [
        "rskf = RepeatedStratifiedKFold(random_state=2021)\n",
        "svc_cv = cross_val_score(svc_pipe_all, X_train_val, y_train_val, cv = rskf, scoring='recall', verbose = 1, n_jobs = -1)"
      ],
      "execution_count": 29,
      "outputs": [
        {
          "output_type": "stream",
          "text": [
            "[Parallel(n_jobs=-1)]: Using backend LokyBackend with 2 concurrent workers.\n",
            "[Parallel(n_jobs=-1)]: Done  46 tasks      | elapsed:  7.3min\n",
            "[Parallel(n_jobs=-1)]: Done  50 out of  50 | elapsed:  8.0min finished\n"
          ],
          "name": "stderr"
        }
      ]
    },
    {
      "cell_type": "code",
      "metadata": {
        "colab": {
          "base_uri": "https://localhost:8080/"
        },
        "id": "3CvW4hJ0KkJF",
        "outputId": "bba72197-5eee-4dc1-b5bf-96f27f5b94d5"
      },
      "source": [
        "print('CV Support Vector Classifier', svc_cv)\n",
        "print('CV Support Vector Classifier', svc_cv.mean())"
      ],
      "execution_count": 30,
      "outputs": [
        {
          "output_type": "stream",
          "text": [
            "CV Support Vector Classifier [0.61699346 0.65490196 0.66492147 0.65183246 0.64528796 0.59869281\n",
            " 0.61568627 0.65445026 0.65706806 0.66230366 0.63921569 0.6496732\n",
            " 0.64528796 0.64397906 0.62696335 0.60653595 0.65228758 0.63874346\n",
            " 0.67146597 0.64005236 0.62091503 0.64052288 0.64267016 0.64790576\n",
            " 0.66230366 0.64575163 0.66405229 0.61649215 0.63743455 0.62303665\n",
            " 0.6496732  0.61045752 0.64005236 0.64005236 0.65968586 0.65882353\n",
            " 0.67058824 0.62958115 0.63874346 0.65052356 0.65098039 0.61437908\n",
            " 0.65314136 0.65183246 0.62434555 0.6875817  0.64052288 0.61910995\n",
            " 0.62434555 0.60863874]\n",
            "CV Support Vector Classifier 0.6412097320603634\n"
          ],
          "name": "stdout"
        }
      ]
    },
    {
      "cell_type": "code",
      "metadata": {
        "id": "6UhBF3RTQGsJ"
      },
      "source": [
        "abc_pipe_all = Pipeline([\r\n",
        "    ('transformer', transformer),\r\n",
        "    ('resampling', SMOTE(random_state=2021)),\r\n",
        "    ('all_abc', abc)\r\n",
        "])"
      ],
      "execution_count": 31,
      "outputs": []
    },
    {
      "cell_type": "code",
      "metadata": {
        "colab": {
          "base_uri": "https://localhost:8080/"
        },
        "id": "kET4s9jjSx0h",
        "outputId": "0ed92ecc-5e38-4971-cfdb-1868fe4bc05f"
      },
      "source": [
        "rskf = RepeatedStratifiedKFold(random_state=2021)\r\n",
        "abc_cv = cross_val_score(abc_pipe_all, X_train_val, y_train_val, cv = rskf, scoring='recall', verbose = 1, n_jobs = -1)"
      ],
      "execution_count": 32,
      "outputs": [
        {
          "output_type": "stream",
          "text": [
            "[Parallel(n_jobs=-1)]: Using backend LokyBackend with 2 concurrent workers.\n",
            "[Parallel(n_jobs=-1)]: Done  46 tasks      | elapsed:  1.0min\n",
            "[Parallel(n_jobs=-1)]: Done  50 out of  50 | elapsed:  1.1min finished\n"
          ],
          "name": "stderr"
        }
      ]
    },
    {
      "cell_type": "code",
      "metadata": {
        "colab": {
          "base_uri": "https://localhost:8080/"
        },
        "id": "ubEG9aYJS9kY",
        "outputId": "d286c7ce-2ed9-4c90-c091-901628373918"
      },
      "source": [
        "print('CV Ada Boost Classifier', abc_cv)\r\n",
        "print('CV Ada Boost Classifier', abc_cv.mean())"
      ],
      "execution_count": 33,
      "outputs": [
        {
          "output_type": "stream",
          "text": [
            "CV Ada Boost Classifier [0.50457516 0.55816993 0.62303665 0.61780105 0.59554974 0.52810458\n",
            " 0.5620915  0.55104712 0.53664921 0.59293194 0.57647059 0.59215686\n",
            " 0.61518325 0.54712042 0.58900524 0.53856209 0.60522876 0.55628272\n",
            " 0.58115183 0.56937173 0.54509804 0.59477124 0.56282723 0.57068063\n",
            " 0.61125654 0.60915033 0.57908497 0.56413613 0.61387435 0.54057592\n",
            " 0.61176471 0.55686275 0.58246073 0.57068063 0.58376963 0.59869281\n",
            " 0.59477124 0.58769634 0.61256545 0.54319372 0.5503268  0.57124183\n",
            " 0.58507853 0.59162304 0.56544503 0.5254902  0.56862745 0.58376963\n",
            " 0.59947644 0.59031414]\n",
            "CV Ada Boost Classifier 0.576115936077747\n"
          ],
          "name": "stdout"
        }
      ]
    },
    {
      "cell_type": "code",
      "metadata": {
        "id": "n4qyx22KTY-g"
      },
      "source": [
        "gbc_pipe_all = Pipeline([\r\n",
        "    ('transformer', transformer),\r\n",
        "    ('resampling', SMOTE(random_state=2021)),\r\n",
        "    ('all_gbc', gbc)\r\n",
        "])"
      ],
      "execution_count": 34,
      "outputs": []
    },
    {
      "cell_type": "code",
      "metadata": {
        "colab": {
          "base_uri": "https://localhost:8080/"
        },
        "id": "NG0owyaWTlzw",
        "outputId": "81f03875-9a5d-4c5d-f07f-440ee9f7e7a4"
      },
      "source": [
        "rskf = RepeatedStratifiedKFold(random_state=2021)\r\n",
        "gbc_cv = cross_val_score(gbc_pipe_all, X_train_val, y_train_val, cv = rskf, scoring='recall', verbose = 1, n_jobs = -1)"
      ],
      "execution_count": 35,
      "outputs": [
        {
          "output_type": "stream",
          "text": [
            "[Parallel(n_jobs=-1)]: Using backend LokyBackend with 2 concurrent workers.\n",
            "[Parallel(n_jobs=-1)]: Done  46 tasks      | elapsed:  2.4min\n",
            "[Parallel(n_jobs=-1)]: Done  50 out of  50 | elapsed:  2.7min finished\n"
          ],
          "name": "stderr"
        }
      ]
    },
    {
      "cell_type": "code",
      "metadata": {
        "colab": {
          "base_uri": "https://localhost:8080/"
        },
        "id": "7PAz1LnXTrqR",
        "outputId": "218a20b0-983d-4764-bfa3-b905ec4c262e"
      },
      "source": [
        "print('CV Gradient Boosting Classifier', gbc_cv)\r\n",
        "print('CV Gradient Boosting Classifier', gbc_cv.mean())"
      ],
      "execution_count": 36,
      "outputs": [
        {
          "output_type": "stream",
          "text": [
            "CV Gradient Boosting Classifier [0.5620915  0.57124183 0.59816754 0.60078534 0.58638743 0.54379085\n",
            " 0.56993464 0.59685864 0.56282723 0.61256545 0.56732026 0.5751634\n",
            " 0.58638743 0.59816754 0.57329843 0.58039216 0.56732026 0.57984293\n",
            " 0.60863874 0.58769634 0.55686275 0.58039216 0.58900524 0.58638743\n",
            " 0.60340314 0.60653595 0.57908497 0.54842932 0.59162304 0.57853403\n",
            " 0.59738562 0.55947712 0.60471204 0.57722513 0.57068063 0.58823529\n",
            " 0.58954248 0.56806283 0.60340314 0.57984293 0.60261438 0.58823529\n",
            " 0.59947644 0.56675393 0.56151832 0.60784314 0.55686275 0.58115183\n",
            " 0.58376963 0.59554974]\n",
            "CV Gradient Boosting Classifier 0.582629572596927\n"
          ],
          "name": "stdout"
        }
      ]
    },
    {
      "cell_type": "code",
      "metadata": {
        "id": "bB7utHJmUSMA"
      },
      "source": [
        "xgb_pipe_all = Pipeline([\r\n",
        "    ('transformer', transformer),\r\n",
        "    ('resampling', SMOTE(random_state=2021)),\r\n",
        "    ('all_xgb', xgb)\r\n",
        "])"
      ],
      "execution_count": 37,
      "outputs": []
    },
    {
      "cell_type": "code",
      "metadata": {
        "colab": {
          "base_uri": "https://localhost:8080/"
        },
        "id": "V1FU5IOdUakn",
        "outputId": "4733330b-2984-45e7-ea3c-2786c9bda873"
      },
      "source": [
        "rskf = RepeatedStratifiedKFold(random_state=2021)\r\n",
        "xgb_cv = cross_val_score(xgb_pipe_all, X_train_val, y_train_val, cv = rskf, scoring='recall', verbose = 1, n_jobs = -1)"
      ],
      "execution_count": 38,
      "outputs": [
        {
          "output_type": "stream",
          "text": [
            "[Parallel(n_jobs=-1)]: Using backend LokyBackend with 2 concurrent workers.\n",
            "[Parallel(n_jobs=-1)]: Done  46 tasks      | elapsed:  1.4min\n",
            "[Parallel(n_jobs=-1)]: Done  50 out of  50 | elapsed:  1.5min finished\n"
          ],
          "name": "stderr"
        }
      ]
    },
    {
      "cell_type": "code",
      "metadata": {
        "colab": {
          "base_uri": "https://localhost:8080/"
        },
        "id": "fsCbr6A8Ugtf",
        "outputId": "bc2f231c-c23b-442f-ee7e-ca1c1144561b"
      },
      "source": [
        "print('CV XGB Classifier', xgb_cv)\r\n",
        "print('CV XGB Classifier', xgb_cv.mean())"
      ],
      "execution_count": 39,
      "outputs": [
        {
          "output_type": "stream",
          "text": [
            "CV XGB Classifier [0.55424837 0.57777778 0.60471204 0.60732984 0.58115183 0.53986928\n",
            " 0.5620915  0.59031414 0.56282723 0.61910995 0.56470588 0.58039216\n",
            " 0.59031414 0.60602094 0.57068063 0.56993464 0.58300654 0.59031414\n",
            " 0.61256545 0.59031414 0.55424837 0.58431373 0.59162304 0.58376963\n",
            " 0.61387435 0.60522876 0.57908497 0.55366492 0.59424084 0.57984293\n",
            " 0.60261438 0.5751634  0.59685864 0.57853403 0.57722513 0.59607843\n",
            " 0.58169935 0.56675393 0.61125654 0.58246073 0.61437908 0.59738562\n",
            " 0.59031414 0.57722513 0.56806283 0.60784314 0.56339869 0.58769634\n",
            " 0.57591623 0.59816754]\n",
            "CV XGB Classifier 0.5849321082708826\n"
          ],
          "name": "stdout"
        }
      ]
    },
    {
      "cell_type": "code",
      "metadata": {
        "id": "0W044OB7U8jP"
      },
      "source": [
        "knc_pipe_all = Pipeline([\r\n",
        "    ('transformer', transformer),\r\n",
        "    ('resampling', SMOTE(random_state=2021)),\r\n",
        "    ('all_knc', knc)\r\n",
        "])"
      ],
      "execution_count": 40,
      "outputs": []
    },
    {
      "cell_type": "code",
      "metadata": {
        "colab": {
          "base_uri": "https://localhost:8080/"
        },
        "id": "VTrL2POBWmSf",
        "outputId": "83b3f300-a8c1-4eac-c925-de03fdf279af"
      },
      "source": [
        "rskf = RepeatedStratifiedKFold(random_state=2021)\r\n",
        "knc_cv = cross_val_score(knc_pipe_all, X_train_val, y_train_val, cv = rskf, scoring='recall', verbose = 1, n_jobs = -1)"
      ],
      "execution_count": 41,
      "outputs": [
        {
          "output_type": "stream",
          "text": [
            "[Parallel(n_jobs=-1)]: Using backend LokyBackend with 2 concurrent workers.\n",
            "[Parallel(n_jobs=-1)]: Done  46 tasks      | elapsed:   42.4s\n",
            "[Parallel(n_jobs=-1)]: Done  50 out of  50 | elapsed:   45.6s finished\n"
          ],
          "name": "stderr"
        }
      ]
    },
    {
      "cell_type": "code",
      "metadata": {
        "colab": {
          "base_uri": "https://localhost:8080/"
        },
        "id": "qjIRvMAfWvjW",
        "outputId": "c9877ac5-8e34-4d9f-f292-395ebe045fb7"
      },
      "source": [
        "print('CV K Nearest Classifier', knc_cv)\r\n",
        "print('CV K Nearest Classifier', knc_cv.mean())"
      ],
      "execution_count": 42,
      "outputs": [
        {
          "output_type": "stream",
          "text": [
            "CV K Nearest Classifier [0.61960784 0.64183007 0.66623037 0.66623037 0.64136126 0.66535948\n",
            " 0.67189542 0.65314136 0.65183246 0.67670157 0.63921569 0.63660131\n",
            " 0.64136126 0.64921466 0.66492147 0.62745098 0.64575163 0.63874346\n",
            " 0.65837696 0.66099476 0.62222222 0.66535948 0.64790576 0.63481675\n",
            " 0.67277487 0.6496732  0.62091503 0.63743455 0.65968586 0.65706806\n",
            " 0.66928105 0.61045752 0.65445026 0.67277487 0.63219895 0.65228758\n",
            " 0.65359477 0.60863874 0.65968586 0.64267016 0.66666667 0.6496732\n",
            " 0.65183246 0.65314136 0.67408377 0.68496732 0.6627451  0.64790576\n",
            " 0.64267016 0.65968586]\n",
            "CV K Nearest Classifier 0.6506817917393835\n"
          ],
          "name": "stdout"
        }
      ]
    },
    {
      "cell_type": "markdown",
      "metadata": {
        "id": "UTcYj-ggXQPO"
      },
      "source": [
        "## __Tune Models__"
      ]
    },
    {
      "cell_type": "markdown",
      "metadata": {
        "id": "oa2upeNdTiWf"
      },
      "source": [
        "Using SelectPercentile in sklearn, the features of the data is automatically selected based on the percentile parameter."
      ]
    },
    {
      "cell_type": "code",
      "metadata": {
        "colab": {
          "base_uri": "https://localhost:8080/"
        },
        "id": "1wyI10PxqeQv",
        "outputId": "4f800e10-0227-4eec-aaa2-0d643ee5eb1a"
      },
      "source": [
        "# top 3 best base models\n",
        "print('CV Logistic Regression', lg_cv.mean())\n",
        "print('CV Support Vector Classifier', svc_cv.mean())\n",
        "print('CV K Nearest Classifier', knc_cv.mean())"
      ],
      "execution_count": 43,
      "outputs": [
        {
          "output_type": "stream",
          "text": [
            "CV Logistic Regression 0.6563581425589433\n",
            "CV Support Vector Classifier 0.6412097320603634\n",
            "CV K Nearest Classifier 0.6506817917393835\n"
          ],
          "name": "stdout"
        }
      ]
    },
    {
      "cell_type": "code",
      "metadata": {
        "id": "cNQ66Dt208w3"
      },
      "source": [
        "lg_pipe_all_tuned = Pipeline([\r\n",
        "    ('transformer', transformer),\r\n",
        "    ('percen', SelectPercentile(percentile=50)),\r\n",
        "    ('all_logit', LogReg)\r\n",
        "])\r\n",
        "#select k best, rfe dan percentile malah jelek"
      ],
      "execution_count": 44,
      "outputs": []
    },
    {
      "cell_type": "code",
      "metadata": {
        "colab": {
          "base_uri": "https://localhost:8080/"
        },
        "id": "Ac_-IU621RgC",
        "outputId": "ec72af3b-5681-4c74-e63c-acd958412752"
      },
      "source": [
        "rskf = RepeatedStratifiedKFold(random_state=2021)\r\n",
        "lg_cv_tuned = cross_val_score(lg_pipe_all_tuned, X_train_val, y_train_val, cv = rskf, scoring='recall', verbose = 1, n_jobs = -1)"
      ],
      "execution_count": 45,
      "outputs": [
        {
          "output_type": "stream",
          "text": [
            "[Parallel(n_jobs=-1)]: Using backend LokyBackend with 2 concurrent workers.\n",
            "[Parallel(n_jobs=-1)]: Done  46 tasks      | elapsed:   22.1s\n",
            "[Parallel(n_jobs=-1)]: Done  50 out of  50 | elapsed:   24.0s finished\n"
          ],
          "name": "stderr"
        }
      ]
    },
    {
      "cell_type": "code",
      "metadata": {
        "colab": {
          "base_uri": "https://localhost:8080/"
        },
        "id": "wvMhgWUj2YOh",
        "outputId": "50a5a967-b1a5-4e11-cbaa-a56c657b61d2"
      },
      "source": [
        "print('CV Logistic Regression Percentile', lg_cv_tuned)\r\n",
        "print('CV Logistic Regression Percentile', lg_cv_tuned.mean())"
      ],
      "execution_count": 46,
      "outputs": [
        {
          "output_type": "stream",
          "text": [
            "CV Logistic Regression Percentile [0.62614379 0.66928105 0.66361257 0.66099476 0.65314136 0.60392157\n",
            " 0.64183007 0.64921466 0.65314136 0.67539267 0.65098039 0.65359477\n",
            " 0.64397906 0.67146597 0.63743455 0.6248366  0.67843137 0.65052356\n",
            " 0.68193717 0.64005236 0.64705882 0.64444444 0.64397906 0.65837696\n",
            " 0.66884817 0.65882353 0.63398693 0.62172775 0.67931937 0.63089005\n",
            " 0.66405229 0.64313725 0.64921466 0.65314136 0.66884817 0.69411765\n",
            " 0.67581699 0.64397906 0.65575916 0.66230366 0.66143791 0.62614379\n",
            " 0.65575916 0.65837696 0.62041885 0.68627451 0.64183007 0.62827225\n",
            " 0.64267016 0.65575916]\n",
            "CV Logistic Regression Percentile 0.6520935564452657\n"
          ],
          "name": "stdout"
        }
      ]
    },
    {
      "cell_type": "code",
      "metadata": {
        "id": "VGq_dEtPqeQw"
      },
      "source": [
        "dtc_pipe_all_tuned = Pipeline([\n",
        "    ('transformer', transformer),\n",
        "    ('percen', SelectPercentile(percentile=50)),\n",
        "    ('all_dtc', dtc)\n",
        "])\n",
        "# select kbest jelek, percentile bagus ,rfe jelek"
      ],
      "execution_count": 47,
      "outputs": []
    },
    {
      "cell_type": "code",
      "metadata": {
        "colab": {
          "base_uri": "https://localhost:8080/"
        },
        "id": "Yh-X57nIqeQw",
        "outputId": "71473073-0d63-4095-dd3c-d823e646906e"
      },
      "source": [
        "rskf = RepeatedStratifiedKFold(random_state=2021)\n",
        "dtc_cv_tuned = cross_val_score(dtc_pipe_all_tuned, X_train_val, y_train_val, cv = rskf, scoring='recall', verbose = 1, n_jobs = -1)"
      ],
      "execution_count": 48,
      "outputs": [
        {
          "output_type": "stream",
          "text": [
            "[Parallel(n_jobs=-1)]: Using backend LokyBackend with 2 concurrent workers.\n",
            "[Parallel(n_jobs=-1)]: Done  46 tasks      | elapsed:   17.4s\n",
            "[Parallel(n_jobs=-1)]: Done  50 out of  50 | elapsed:   18.6s finished\n"
          ],
          "name": "stderr"
        }
      ]
    },
    {
      "cell_type": "code",
      "metadata": {
        "colab": {
          "base_uri": "https://localhost:8080/"
        },
        "id": "29BRsr4SqeQx",
        "outputId": "5b90bb67-cdbe-4a1f-f2e8-ff0594f3e887"
      },
      "source": [
        "print('CV Decision Tree Classifier Percentile', dtc_cv_tuned)\n",
        "print('CV Decision Tree Classifier Percentile', dtc_cv_tuned.mean())"
      ],
      "execution_count": 49,
      "outputs": [
        {
          "output_type": "stream",
          "text": [
            "CV Decision Tree Classifier Percentile [0.68366013 0.70718954 0.72513089 0.71596859 0.62172775 0.70718954\n",
            " 0.61568627 0.70026178 0.71073298 0.71465969 0.68366013 0.72418301\n",
            " 0.65445026 0.71989529 0.70680628 0.70849673 0.59738562 0.71204188\n",
            " 0.72382199 0.73036649 0.70980392 0.60522876 0.69240838 0.58376963\n",
            " 0.70418848 0.73986928 0.70588235 0.70811518 0.69895288 0.73429319\n",
            " 0.71503268 0.72156863 0.72643979 0.73167539 0.68979058 0.59215686\n",
            " 0.69673203 0.68586387 0.70680628 0.71858639 0.7124183  0.69803922\n",
            " 0.70811518 0.70418848 0.70811518 0.76732026 0.6875817  0.70680628\n",
            " 0.72382199 0.70811518]\n",
            "CV Decision Tree Classifier Percentile 0.6971000239537349\n"
          ],
          "name": "stdout"
        }
      ]
    },
    {
      "cell_type": "code",
      "metadata": {
        "id": "4Q6VM2TFDyUV"
      },
      "source": [
        "rfc_pipe_all_tuned = Pipeline([\r\n",
        "    ('transformer', transformer),\r\n",
        "    ('percen', SelectPercentile(percentile=50)),\r\n",
        "    ('all_rfc', rfc)\r\n",
        "])\r\n",
        "#rfe, select kbest jelek"
      ],
      "execution_count": 50,
      "outputs": []
    },
    {
      "cell_type": "code",
      "metadata": {
        "colab": {
          "base_uri": "https://localhost:8080/"
        },
        "id": "k-R1krcpEH_t",
        "outputId": "4273e995-b3b8-4e86-b8ee-3adccbc92abd"
      },
      "source": [
        "rskf = RepeatedStratifiedKFold(random_state=2021)\r\n",
        "rfc_cv_tuned = cross_val_score(rfc_pipe_all_tuned, X_train_val, y_train_val, cv = rskf, scoring='recall', verbose = 1, n_jobs = -1)"
      ],
      "execution_count": 51,
      "outputs": [
        {
          "output_type": "stream",
          "text": [
            "[Parallel(n_jobs=-1)]: Using backend LokyBackend with 2 concurrent workers.\n",
            "[Parallel(n_jobs=-1)]: Done  46 tasks      | elapsed:   49.2s\n",
            "[Parallel(n_jobs=-1)]: Done  50 out of  50 | elapsed:   53.1s finished\n"
          ],
          "name": "stderr"
        }
      ]
    },
    {
      "cell_type": "code",
      "metadata": {
        "colab": {
          "base_uri": "https://localhost:8080/"
        },
        "id": "3ybWqzZfIDTV",
        "outputId": "beb8611b-4412-4d2b-cc72-4c59ba5f04b9"
      },
      "source": [
        "print('CV Random Forest Classifier Percentile', rfc_cv_tuned)\r\n",
        "print('CV Random Forest Classifier Percentile', rfc_cv_tuned.mean())"
      ],
      "execution_count": 52,
      "outputs": [
        {
          "output_type": "stream",
          "text": [
            "CV Random Forest Classifier Percentile [0.64836601 0.6627451  0.67670157 0.67931937 0.56806283 0.66405229\n",
            " 0.56339869 0.67146597 0.65575916 0.66884817 0.6627451  0.69019608\n",
            " 0.60732984 0.70418848 0.68062827 0.67843137 0.54379085 0.68062827\n",
            " 0.69109948 0.69371728 0.67973856 0.54771242 0.65968586 0.52225131\n",
            " 0.67539267 0.70196078 0.67058824 0.66361257 0.65575916 0.67408377\n",
            " 0.67058824 0.6875817  0.69764398 0.69764398 0.65445026 0.54248366\n",
            " 0.66143791 0.66099476 0.68848168 0.69895288 0.67189542 0.66797386\n",
            " 0.66623037 0.66492147 0.67801047 0.72156863 0.64052288 0.66753927\n",
            " 0.67801047 0.66099476]\n",
            "CV Random Forest Classifier Percentile 0.6584037230948225\n"
          ],
          "name": "stdout"
        }
      ]
    },
    {
      "cell_type": "code",
      "metadata": {
        "id": "oPete1Is3mHJ"
      },
      "source": [
        "svc_pipe_all_tuned = Pipeline([\r\n",
        "    ('transformer', transformer),\r\n",
        "    ('percen', SelectPercentile(percentile=50)),\r\n",
        "    ('all_svc', svc)\r\n",
        "])\r\n",
        "# select kbest jelek, percentile bagus"
      ],
      "execution_count": 53,
      "outputs": []
    },
    {
      "cell_type": "code",
      "metadata": {
        "colab": {
          "base_uri": "https://localhost:8080/"
        },
        "id": "r6KmDR9lqeQz",
        "outputId": "45ece8cc-1608-4dd0-e536-ce728f5d639e"
      },
      "source": [
        "rskf = RepeatedStratifiedKFold(random_state=2021)\n",
        "svc_cv_tuned = cross_val_score(svc_pipe_all_tuned, X_train_val, y_train_val, cv = rskf, scoring='recall', verbose = 1, n_jobs = -1)"
      ],
      "execution_count": 54,
      "outputs": [
        {
          "output_type": "stream",
          "text": [
            "[Parallel(n_jobs=-1)]: Using backend LokyBackend with 2 concurrent workers.\n",
            "[Parallel(n_jobs=-1)]: Done  46 tasks      | elapsed:  5.5min\n",
            "[Parallel(n_jobs=-1)]: Done  50 out of  50 | elapsed:  6.0min finished\n"
          ],
          "name": "stderr"
        }
      ]
    },
    {
      "cell_type": "code",
      "metadata": {
        "colab": {
          "base_uri": "https://localhost:8080/"
        },
        "id": "P5ayjbljqeQ0",
        "outputId": "4ab4a9df-8d2f-4825-9444-82cbd8782bd2"
      },
      "source": [
        "print('CV Support Vector Classifier Percentile', svc_cv_tuned)\n",
        "print('CV Support Vector Classifier Percentile', svc_cv_tuned.mean())"
      ],
      "execution_count": 55,
      "outputs": [
        {
          "output_type": "stream",
          "text": [
            "CV Support Vector Classifier Percentile [0.70980392 0.73986928 0.7539267  0.7473822  0.65314136 0.72026144\n",
            " 0.62614379 0.70680628 0.70811518 0.71727749 0.71111111 0.73594771\n",
            " 0.70942408 0.7604712  0.71073298 0.70849673 0.65620915 0.73298429\n",
            " 0.78272251 0.7486911  0.70326797 0.64052288 0.7513089  0.65706806\n",
            " 0.7604712  0.7372549  0.75294118 0.68062827 0.68062827 0.70418848\n",
            " 0.73464052 0.70326797 0.73429319 0.7447644  0.72774869 0.67843137\n",
            " 0.73464052 0.70026178 0.71858639 0.72120419 0.76993464 0.64183007\n",
            " 0.72643979 0.71989529 0.71073298 0.75163399 0.70849673 0.72120419\n",
            " 0.72251309 0.64267016]\n",
            "CV Support Vector Classifier Percentile 0.7144197720973205\n"
          ],
          "name": "stdout"
        }
      ]
    },
    {
      "cell_type": "code",
      "metadata": {
        "id": "cuua1BEwK74D"
      },
      "source": [
        "abc_pipe_all_tuned = Pipeline([\r\n",
        "    ('transformer', transformer),\r\n",
        "    ('resampling', SMOTE(random_state=2021)),\r\n",
        "    ('percen', SelectPercentile(percentile=50)),\r\n",
        "    ('all_abc', abc)\r\n",
        "])\r\n",
        "# rfe, select k best, select percentile jelek"
      ],
      "execution_count": 56,
      "outputs": []
    },
    {
      "cell_type": "code",
      "metadata": {
        "colab": {
          "base_uri": "https://localhost:8080/"
        },
        "id": "p1bj4dKyLTAK",
        "outputId": "e3cd53eb-dae4-4d40-f66d-99579d04adf6"
      },
      "source": [
        "rskf = RepeatedStratifiedKFold(random_state=2021)\r\n",
        "abc_cv_tuned = cross_val_score(abc_pipe_all_tuned, X_train_val, y_train_val, cv = rskf, scoring='recall', verbose = 1, n_jobs = -1)"
      ],
      "execution_count": 57,
      "outputs": [
        {
          "output_type": "stream",
          "text": [
            "[Parallel(n_jobs=-1)]: Using backend LokyBackend with 2 concurrent workers.\n",
            "[Parallel(n_jobs=-1)]: Done  46 tasks      | elapsed:   49.1s\n",
            "[Parallel(n_jobs=-1)]: Done  50 out of  50 | elapsed:   53.3s finished\n"
          ],
          "name": "stderr"
        }
      ]
    },
    {
      "cell_type": "code",
      "metadata": {
        "colab": {
          "base_uri": "https://localhost:8080/"
        },
        "id": "BFhmKamDN3jz",
        "outputId": "628d79da-f94d-403f-a336-049a67f65e22"
      },
      "source": [
        "print('CV Ada Boost Classifier Percentile', abc_cv_tuned)\r\n",
        "print('CV Ada Boost Classifier Percentile', abc_cv_tuned.mean())"
      ],
      "execution_count": 58,
      "outputs": [
        {
          "output_type": "stream",
          "text": [
            "CV Ada Boost Classifier Percentile [0.56601307 0.56732026 0.58900524 0.59816754 0.60078534 0.4875817\n",
            " 0.54379085 0.59031414 0.58246073 0.62434555 0.58954248 0.60915033\n",
            " 0.57329843 0.53534031 0.52879581 0.53202614 0.61437908 0.59947644\n",
            " 0.63481675 0.61125654 0.54640523 0.53464052 0.60340314 0.61125654\n",
            " 0.57460733 0.61176471 0.56470588 0.52356021 0.64136126 0.52748691\n",
            " 0.60130719 0.5503268  0.65314136 0.62303665 0.59554974 0.62222222\n",
            " 0.58300654 0.52748691 0.62696335 0.53926702 0.60784314 0.59215686\n",
            " 0.55366492 0.55235602 0.55890052 0.61830065 0.53986928 0.54842932\n",
            " 0.57722513 0.62958115]\n",
            "CV Ada Boost Classifier Percentile 0.580353865106252\n"
          ],
          "name": "stdout"
        }
      ]
    },
    {
      "cell_type": "code",
      "metadata": {
        "id": "qitdHYVLQagh"
      },
      "source": [
        "gbc_pipe_all_tuned = Pipeline([\r\n",
        "    ('transformer', transformer),\r\n",
        "    ('resampling', SMOTE(random_state=2021)),\r\n",
        "    ('percen', SelectPercentile(percentile=50)),\r\n",
        "    ('all_gbc', gbc)\r\n",
        "])\r\n",
        "# rfe, selectkbest jelek"
      ],
      "execution_count": 59,
      "outputs": []
    },
    {
      "cell_type": "code",
      "metadata": {
        "colab": {
          "base_uri": "https://localhost:8080/"
        },
        "id": "9oEBR7qqRLFJ",
        "outputId": "7af8de14-96e2-4e42-869e-7a069aa6dd3c"
      },
      "source": [
        "rskf = RepeatedStratifiedKFold(random_state=2021)\r\n",
        "gbc_cv_tuned = cross_val_score(gbc_pipe_all_tuned, X_train_val, y_train_val, cv = rskf, scoring='recall', verbose = 1, n_jobs = -1)"
      ],
      "execution_count": 60,
      "outputs": [
        {
          "output_type": "stream",
          "text": [
            "[Parallel(n_jobs=-1)]: Using backend LokyBackend with 2 concurrent workers.\n",
            "[Parallel(n_jobs=-1)]: Done  46 tasks      | elapsed:  1.7min\n",
            "[Parallel(n_jobs=-1)]: Done  50 out of  50 | elapsed:  1.9min finished\n"
          ],
          "name": "stderr"
        }
      ]
    },
    {
      "cell_type": "code",
      "metadata": {
        "colab": {
          "base_uri": "https://localhost:8080/"
        },
        "id": "Z3cvShxoY4jo",
        "outputId": "183c4890-8e75-49ba-8003-63d90e5353ae"
      },
      "source": [
        "print('CV Gradient Boost Classifier Percentile', gbc_cv_tuned)\r\n",
        "print('CV Gradient Boost Classifier Percentile', gbc_cv_tuned.mean())"
      ],
      "execution_count": 61,
      "outputs": [
        {
          "output_type": "stream",
          "text": [
            "CV Gradient Boost Classifier Percentile [0.57777778 0.59346405 0.63089005 0.61256545 0.60471204 0.58169935\n",
            " 0.60915033 0.60863874 0.59424084 0.62434555 0.59738562 0.60915033\n",
            " 0.60078534 0.62172775 0.59947644 0.59084967 0.61699346 0.60994764\n",
            " 0.60340314 0.62434555 0.58169935 0.62352941 0.60209424 0.60994764\n",
            " 0.65445026 0.63529412 0.59738562 0.56544503 0.62827225 0.58638743\n",
            " 0.62745098 0.5751634  0.63874346 0.63874346 0.56937173 0.61960784\n",
            " 0.6        0.59947644 0.62303665 0.62172775 0.63267974 0.6\n",
            " 0.61649215 0.59554974 0.57068063 0.63398693 0.60653595 0.59162304\n",
            " 0.58638743 0.62303665]\n",
            "CV Gradient Boost Classifier Percentile 0.6073269684837286\n"
          ],
          "name": "stdout"
        }
      ]
    },
    {
      "cell_type": "code",
      "metadata": {
        "id": "MhP83WwKcFfN"
      },
      "source": [
        "xgb_pipe_all_tuned = Pipeline([\r\n",
        "    ('transformer', transformer),\r\n",
        "    ('resampling', SMOTE(random_state=2021)),\r\n",
        "    ('percen', SelectPercentile(percentile=50)),\r\n",
        "    ('all_xgb', xgb)\r\n",
        "])\r\n",
        "# rfe, selectkbest jelek"
      ],
      "execution_count": 62,
      "outputs": []
    },
    {
      "cell_type": "code",
      "metadata": {
        "colab": {
          "base_uri": "https://localhost:8080/"
        },
        "id": "2zeAK118cQak",
        "outputId": "e4a6fcf1-cd55-4f7b-c66b-aa0f18a97e85"
      },
      "source": [
        "rskf = RepeatedStratifiedKFold(random_state=2021)\r\n",
        "xgb_cv_tuned = cross_val_score(xgb_pipe_all_tuned, X_train_val, y_train_val, cv = rskf, scoring='recall', verbose = 1, n_jobs = -1)"
      ],
      "execution_count": 63,
      "outputs": [
        {
          "output_type": "stream",
          "text": [
            "[Parallel(n_jobs=-1)]: Using backend LokyBackend with 2 concurrent workers.\n",
            "[Parallel(n_jobs=-1)]: Done  46 tasks      | elapsed:  1.0min\n",
            "[Parallel(n_jobs=-1)]: Done  50 out of  50 | elapsed:  1.1min finished\n"
          ],
          "name": "stderr"
        }
      ]
    },
    {
      "cell_type": "code",
      "metadata": {
        "colab": {
          "base_uri": "https://localhost:8080/"
        },
        "id": "457BNyLh2POu",
        "outputId": "6f5980dd-c862-456c-e753-cc3dae174041"
      },
      "source": [
        "print('CV XGBoost Classifier Percentile', xgb_cv_tuned)\r\n",
        "print('CV XGBoost Classifier Percentile', xgb_cv_tuned.mean())"
      ],
      "execution_count": 64,
      "outputs": [
        {
          "output_type": "stream",
          "text": [
            "CV XGBoost Classifier Percentile [0.58039216 0.58823529 0.63743455 0.62041885 0.61387435 0.6\n",
            " 0.62875817 0.61518325 0.59162304 0.62565445 0.59738562 0.6130719\n",
            " 0.61125654 0.62565445 0.60863874 0.58823529 0.61830065 0.60732984\n",
            " 0.63481675 0.62041885 0.59084967 0.62091503 0.60209424 0.59947644\n",
            " 0.65968586 0.63921569 0.60130719 0.56413613 0.62696335 0.59293194\n",
            " 0.6627451  0.58039216 0.64397906 0.64136126 0.57591623 0.61960784\n",
            " 0.6130719  0.60078534 0.62958115 0.62041885 0.6248366  0.61830065\n",
            " 0.61649215 0.59554974 0.57591623 0.63921569 0.59215686 0.60602094\n",
            " 0.59293194 0.62696335]\n",
            "CV XGBoost Classifier Percentile 0.6120100263491086\n"
          ],
          "name": "stdout"
        }
      ]
    },
    {
      "cell_type": "code",
      "metadata": {
        "id": "9MXRcd1uqeQ0"
      },
      "source": [
        "knc_pipe_all_tuned = Pipeline([\n",
        "    ('transformer', transformer),\n",
        "    ('resampling', SMOTE(random_state=2021)),\n",
        "    ('perce', SelectPercentile(percentile=50)),\n",
        "    ('all_knc', knc)\n",
        "])\n",
        "# select k best dan percentile malah jelek"
      ],
      "execution_count": 65,
      "outputs": []
    },
    {
      "cell_type": "code",
      "metadata": {
        "colab": {
          "base_uri": "https://localhost:8080/"
        },
        "id": "eCVRDaYUqeQ1",
        "outputId": "25321345-7e34-4ab9-b88f-8e3c08de8d96"
      },
      "source": [
        "rskf = RepeatedStratifiedKFold(random_state=2021)\n",
        "knc_cv_tuned = cross_val_score(knc_pipe_all_tuned, X_train_val, y_train_val, cv = rskf, scoring='recall', verbose = 1, n_jobs = -1)"
      ],
      "execution_count": 66,
      "outputs": [
        {
          "output_type": "stream",
          "text": [
            "[Parallel(n_jobs=-1)]: Using backend LokyBackend with 2 concurrent workers.\n",
            "[Parallel(n_jobs=-1)]: Done  46 tasks      | elapsed:   38.7s\n",
            "[Parallel(n_jobs=-1)]: Done  50 out of  50 | elapsed:   41.8s finished\n"
          ],
          "name": "stderr"
        }
      ]
    },
    {
      "cell_type": "code",
      "metadata": {
        "colab": {
          "base_uri": "https://localhost:8080/"
        },
        "id": "OixpTtHlqeQ2",
        "outputId": "8e272ce8-b60b-4d1e-975c-29e381c974c9"
      },
      "source": [
        "print('CV K Nearest Classifier Percentile', knc_cv_tuned)\n",
        "print('CV K Nearest Classifier Percentile', knc_cv_tuned.mean())"
      ],
      "execution_count": 67,
      "outputs": [
        {
          "output_type": "stream",
          "text": [
            "CV K Nearest Classifier Percentile [0.41960784 0.53986928 0.56544503 0.56282723 0.57722513 0.47581699\n",
            " 0.62875817 0.5013089  0.5091623  0.51570681 0.49673203 0.54248366\n",
            " 0.52879581 0.55235602 0.52094241 0.46013072 0.5751634  0.5052356\n",
            " 0.53010471 0.58507853 0.59084967 0.62352941 0.43848168 0.57460733\n",
            " 0.54450262 0.52679739 0.47712418 0.53272251 0.4947644  0.54842932\n",
            " 0.56862745 0.59215686 0.55759162 0.4908377  0.47513089 0.50980392\n",
            " 0.47320261 0.60863874 0.5091623  0.43586387 0.4875817  0.47843137\n",
            " 0.44633508 0.42146597 0.56413613 0.55947712 0.44444444 0.59685864\n",
            " 0.5039267  0.40968586]\n",
            "CV K Nearest Classifier Percentile 0.5215583615645211\n"
          ],
          "name": "stdout"
        }
      ]
    },
    {
      "cell_type": "code",
      "metadata": {
        "colab": {
          "base_uri": "https://localhost:8080/"
        },
        "id": "2Q363lTC4sKK",
        "outputId": "60e26b80-f4bc-4bd7-cad8-b79698065755"
      },
      "source": [
        "# top 3 best tune models\r\n",
        "print('CV Decision Tree Classifier', dtc_cv_tuned.mean())\r\n",
        "print('CV Support Vector Classifier', svc_cv_tuned.mean())\r\n",
        "print('CV Random Forest Classifier', rfc_cv_tuned.mean())"
      ],
      "execution_count": 68,
      "outputs": [
        {
          "output_type": "stream",
          "text": [
            "CV Decision Tree Classifier 0.6971000239537349\n",
            "CV Support Vector Classifier 0.7144197720973205\n",
            "CV Random Forest Classifier 0.6584037230948225\n"
          ],
          "name": "stdout"
        }
      ]
    },
    {
      "cell_type": "markdown",
      "metadata": {
        "id": "yQG8Lx6bUK2s"
      },
      "source": [
        "Based on the 'recall' score, and speed performance of models, the best model is the Decision Tree Classifier."
      ]
    },
    {
      "cell_type": "code",
      "metadata": {
        "colab": {
          "base_uri": "https://localhost:8080/"
        },
        "id": "nxnBEWST5b0h",
        "outputId": "5541da37-f514-4494-d4b7-88a27d02018e"
      },
      "source": [
        "dtc_pipe_all_tuned.get_params()"
      ],
      "execution_count": 69,
      "outputs": [
        {
          "output_type": "execute_result",
          "data": {
            "text/plain": [
              "{'all_dtc': DecisionTreeClassifier(ccp_alpha=0.0, class_weight='balanced', criterion='gini',\n",
              "                        max_depth=None, max_features=None, max_leaf_nodes=None,\n",
              "                        min_impurity_decrease=0.0, min_impurity_split=None,\n",
              "                        min_samples_leaf=1, min_samples_split=2,\n",
              "                        min_weight_fraction_leaf=0.0, presort='deprecated',\n",
              "                        random_state=2021, splitter='best'),\n",
              " 'all_dtc__ccp_alpha': 0.0,\n",
              " 'all_dtc__class_weight': 'balanced',\n",
              " 'all_dtc__criterion': 'gini',\n",
              " 'all_dtc__max_depth': None,\n",
              " 'all_dtc__max_features': None,\n",
              " 'all_dtc__max_leaf_nodes': None,\n",
              " 'all_dtc__min_impurity_decrease': 0.0,\n",
              " 'all_dtc__min_impurity_split': None,\n",
              " 'all_dtc__min_samples_leaf': 1,\n",
              " 'all_dtc__min_samples_split': 2,\n",
              " 'all_dtc__min_weight_fraction_leaf': 0.0,\n",
              " 'all_dtc__presort': 'deprecated',\n",
              " 'all_dtc__random_state': 2021,\n",
              " 'all_dtc__splitter': 'best',\n",
              " 'memory': None,\n",
              " 'percen': SelectPercentile(percentile=50,\n",
              "                  score_func=<function f_classif at 0x7ff04576b950>),\n",
              " 'percen__percentile': 50,\n",
              " 'percen__score_func': <function sklearn.feature_selection._univariate_selection.f_classif>,\n",
              " 'steps': [('transformer',\n",
              "   ColumnTransformer(n_jobs=None, remainder='passthrough', sparse_threshold=0.3,\n",
              "                     transformer_weights=None,\n",
              "                     transformers=[('num',\n",
              "                                    Pipeline(memory=None,\n",
              "                                             steps=[('scaler',\n",
              "                                                     RobustScaler(copy=True,\n",
              "                                                                  quantile_range=(25.0,\n",
              "                                                                                  75.0),\n",
              "                                                                  with_centering=True,\n",
              "                                                                  with_scaling=True))],\n",
              "                                             verbose=False),\n",
              "                                    ['city_development_index']),\n",
              "                                   ('poly',\n",
              "                                    PolynomialFeatures(degree=3,\n",
              "                                                       include_bias=False,\n",
              "                                                       in...\n",
              "                                                     SimpleImputer(add_indicator=False,\n",
              "                                                                   copy=True,\n",
              "                                                                   fill_value=None,\n",
              "                                                                   missing_values=nan,\n",
              "                                                                   strategy='most_frequent',\n",
              "                                                                   verbose=0)),\n",
              "                                                    ('ordinal',\n",
              "                                                     OrdinalEncoder(cols=None,\n",
              "                                                                    drop_invariant=False,\n",
              "                                                                    handle_missing='value',\n",
              "                                                                    handle_unknown='value',\n",
              "                                                                    mapping=None,\n",
              "                                                                    return_df=True,\n",
              "                                                                    verbose=0))],\n",
              "                                             verbose=False),\n",
              "                                    ['education_level', 'experience',\n",
              "                                     'company_size', 'last_new_job'])],\n",
              "                     verbose=False)),\n",
              "  ('percen', SelectPercentile(percentile=50,\n",
              "                    score_func=<function f_classif at 0x7ff04576b950>)),\n",
              "  ('all_dtc',\n",
              "   DecisionTreeClassifier(ccp_alpha=0.0, class_weight='balanced', criterion='gini',\n",
              "                          max_depth=None, max_features=None, max_leaf_nodes=None,\n",
              "                          min_impurity_decrease=0.0, min_impurity_split=None,\n",
              "                          min_samples_leaf=1, min_samples_split=2,\n",
              "                          min_weight_fraction_leaf=0.0, presort='deprecated',\n",
              "                          random_state=2021, splitter='best'))],\n",
              " 'transformer': ColumnTransformer(n_jobs=None, remainder='passthrough', sparse_threshold=0.3,\n",
              "                   transformer_weights=None,\n",
              "                   transformers=[('num',\n",
              "                                  Pipeline(memory=None,\n",
              "                                           steps=[('scaler',\n",
              "                                                   RobustScaler(copy=True,\n",
              "                                                                quantile_range=(25.0,\n",
              "                                                                                75.0),\n",
              "                                                                with_centering=True,\n",
              "                                                                with_scaling=True))],\n",
              "                                           verbose=False),\n",
              "                                  ['city_development_index']),\n",
              "                                 ('poly',\n",
              "                                  PolynomialFeatures(degree=3,\n",
              "                                                     include_bias=False,\n",
              "                                                     in...\n",
              "                                                   SimpleImputer(add_indicator=False,\n",
              "                                                                 copy=True,\n",
              "                                                                 fill_value=None,\n",
              "                                                                 missing_values=nan,\n",
              "                                                                 strategy='most_frequent',\n",
              "                                                                 verbose=0)),\n",
              "                                                  ('ordinal',\n",
              "                                                   OrdinalEncoder(cols=None,\n",
              "                                                                  drop_invariant=False,\n",
              "                                                                  handle_missing='value',\n",
              "                                                                  handle_unknown='value',\n",
              "                                                                  mapping=None,\n",
              "                                                                  return_df=True,\n",
              "                                                                  verbose=0))],\n",
              "                                           verbose=False),\n",
              "                                  ['education_level', 'experience',\n",
              "                                   'company_size', 'last_new_job'])],\n",
              "                   verbose=False),\n",
              " 'transformer__cat': Pipeline(memory=None,\n",
              "          steps=[('imputer',\n",
              "                  SimpleImputer(add_indicator=False, copy=True, fill_value=None,\n",
              "                                missing_values=nan, strategy='most_frequent',\n",
              "                                verbose=0)),\n",
              "                 ('binary',\n",
              "                  BinaryEncoder(cols=None, drop_invariant=False,\n",
              "                                handle_missing='value', handle_unknown='value',\n",
              "                                mapping=None, return_df=True, verbose=0))],\n",
              "          verbose=False),\n",
              " 'transformer__cat__binary': BinaryEncoder(cols=None, drop_invariant=False, handle_missing='value',\n",
              "               handle_unknown='value', mapping=None, return_df=True, verbose=0),\n",
              " 'transformer__cat__binary__cols': None,\n",
              " 'transformer__cat__binary__drop_invariant': False,\n",
              " 'transformer__cat__binary__handle_missing': 'value',\n",
              " 'transformer__cat__binary__handle_unknown': 'value',\n",
              " 'transformer__cat__binary__mapping': None,\n",
              " 'transformer__cat__binary__return_df': True,\n",
              " 'transformer__cat__binary__verbose': 0,\n",
              " 'transformer__cat__imputer': SimpleImputer(add_indicator=False, copy=True, fill_value=None,\n",
              "               missing_values=nan, strategy='most_frequent', verbose=0),\n",
              " 'transformer__cat__imputer__add_indicator': False,\n",
              " 'transformer__cat__imputer__copy': True,\n",
              " 'transformer__cat__imputer__fill_value': None,\n",
              " 'transformer__cat__imputer__missing_values': nan,\n",
              " 'transformer__cat__imputer__strategy': 'most_frequent',\n",
              " 'transformer__cat__imputer__verbose': 0,\n",
              " 'transformer__cat__memory': None,\n",
              " 'transformer__cat__steps': [('imputer',\n",
              "   SimpleImputer(add_indicator=False, copy=True, fill_value=None,\n",
              "                 missing_values=nan, strategy='most_frequent', verbose=0)),\n",
              "  ('binary',\n",
              "   BinaryEncoder(cols=None, drop_invariant=False, handle_missing='value',\n",
              "                 handle_unknown='value', mapping=None, return_df=True, verbose=0))],\n",
              " 'transformer__cat__verbose': False,\n",
              " 'transformer__n_jobs': None,\n",
              " 'transformer__num': Pipeline(memory=None,\n",
              "          steps=[('scaler',\n",
              "                  RobustScaler(copy=True, quantile_range=(25.0, 75.0),\n",
              "                               with_centering=True, with_scaling=True))],\n",
              "          verbose=False),\n",
              " 'transformer__num__memory': None,\n",
              " 'transformer__num__scaler': RobustScaler(copy=True, quantile_range=(25.0, 75.0), with_centering=True,\n",
              "              with_scaling=True),\n",
              " 'transformer__num__scaler__copy': True,\n",
              " 'transformer__num__scaler__quantile_range': (25.0, 75.0),\n",
              " 'transformer__num__scaler__with_centering': True,\n",
              " 'transformer__num__scaler__with_scaling': True,\n",
              " 'transformer__num__steps': [('scaler',\n",
              "   RobustScaler(copy=True, quantile_range=(25.0, 75.0), with_centering=True,\n",
              "                with_scaling=True))],\n",
              " 'transformer__num__verbose': False,\n",
              " 'transformer__ord': Pipeline(memory=None,\n",
              "          steps=[('imputer',\n",
              "                  SimpleImputer(add_indicator=False, copy=True, fill_value=None,\n",
              "                                missing_values=nan, strategy='most_frequent',\n",
              "                                verbose=0)),\n",
              "                 ('ordinal',\n",
              "                  OrdinalEncoder(cols=None, drop_invariant=False,\n",
              "                                 handle_missing='value', handle_unknown='value',\n",
              "                                 mapping=None, return_df=True, verbose=0))],\n",
              "          verbose=False),\n",
              " 'transformer__ord__imputer': SimpleImputer(add_indicator=False, copy=True, fill_value=None,\n",
              "               missing_values=nan, strategy='most_frequent', verbose=0),\n",
              " 'transformer__ord__imputer__add_indicator': False,\n",
              " 'transformer__ord__imputer__copy': True,\n",
              " 'transformer__ord__imputer__fill_value': None,\n",
              " 'transformer__ord__imputer__missing_values': nan,\n",
              " 'transformer__ord__imputer__strategy': 'most_frequent',\n",
              " 'transformer__ord__imputer__verbose': 0,\n",
              " 'transformer__ord__memory': None,\n",
              " 'transformer__ord__ordinal': OrdinalEncoder(cols=None, drop_invariant=False, handle_missing='value',\n",
              "                handle_unknown='value', mapping=None, return_df=True, verbose=0),\n",
              " 'transformer__ord__ordinal__cols': None,\n",
              " 'transformer__ord__ordinal__drop_invariant': False,\n",
              " 'transformer__ord__ordinal__handle_missing': 'value',\n",
              " 'transformer__ord__ordinal__handle_unknown': 'value',\n",
              " 'transformer__ord__ordinal__mapping': None,\n",
              " 'transformer__ord__ordinal__return_df': True,\n",
              " 'transformer__ord__ordinal__verbose': 0,\n",
              " 'transformer__ord__steps': [('imputer',\n",
              "   SimpleImputer(add_indicator=False, copy=True, fill_value=None,\n",
              "                 missing_values=nan, strategy='most_frequent', verbose=0)),\n",
              "  ('ordinal',\n",
              "   OrdinalEncoder(cols=None, drop_invariant=False, handle_missing='value',\n",
              "                  handle_unknown='value', mapping=None, return_df=True, verbose=0))],\n",
              " 'transformer__ord__verbose': False,\n",
              " 'transformer__poly': PolynomialFeatures(degree=3, include_bias=False, interaction_only=False,\n",
              "                    order='C'),\n",
              " 'transformer__poly__degree': 3,\n",
              " 'transformer__poly__include_bias': False,\n",
              " 'transformer__poly__interaction_only': False,\n",
              " 'transformer__poly__order': 'C',\n",
              " 'transformer__remainder': 'passthrough',\n",
              " 'transformer__sparse_threshold': 0.3,\n",
              " 'transformer__transformer_weights': None,\n",
              " 'transformer__transformers': [('num', Pipeline(memory=None,\n",
              "            steps=[('scaler',\n",
              "                    RobustScaler(copy=True, quantile_range=(25.0, 75.0),\n",
              "                                 with_centering=True, with_scaling=True))],\n",
              "            verbose=False), ['city_development_index']),\n",
              "  ('poly',\n",
              "   PolynomialFeatures(degree=3, include_bias=False, interaction_only=False,\n",
              "                      order='C'),\n",
              "   ['city_development_index']),\n",
              "  ('cat', Pipeline(memory=None,\n",
              "            steps=[('imputer',\n",
              "                    SimpleImputer(add_indicator=False, copy=True, fill_value=None,\n",
              "                                  missing_values=nan, strategy='most_frequent',\n",
              "                                  verbose=0)),\n",
              "                   ('binary',\n",
              "                    BinaryEncoder(cols=None, drop_invariant=False,\n",
              "                                  handle_missing='value', handle_unknown='value',\n",
              "                                  mapping=None, return_df=True, verbose=0))],\n",
              "            verbose=False), ['city',\n",
              "    'gender',\n",
              "    'relevent_experience',\n",
              "    'enrolled_university',\n",
              "    'major_discipline',\n",
              "    'company_type']),\n",
              "  ('ord', Pipeline(memory=None,\n",
              "            steps=[('imputer',\n",
              "                    SimpleImputer(add_indicator=False, copy=True, fill_value=None,\n",
              "                                  missing_values=nan, strategy='most_frequent',\n",
              "                                  verbose=0)),\n",
              "                   ('ordinal',\n",
              "                    OrdinalEncoder(cols=None, drop_invariant=False,\n",
              "                                   handle_missing='value', handle_unknown='value',\n",
              "                                   mapping=None, return_df=True, verbose=0))],\n",
              "            verbose=False), ['education_level',\n",
              "    'experience',\n",
              "    'company_size',\n",
              "    'last_new_job'])],\n",
              " 'transformer__verbose': False,\n",
              " 'verbose': False}"
            ]
          },
          "metadata": {
            "tags": []
          },
          "execution_count": 69
        }
      ]
    },
    {
      "cell_type": "markdown",
      "metadata": {
        "id": "VsqIa8JtT8TR"
      },
      "source": [
        "Using RepeatedStratifiedKFold and GridSearchCV to search over specified parameter values for an estimator. The \"scoring\" parameter used is 'recall'."
      ]
    },
    {
      "cell_type": "code",
      "metadata": {
        "colab": {
          "base_uri": "https://localhost:8080/"
        },
        "id": "fNmD9qtrAaP0",
        "outputId": "cdac0182-65e6-4fb4-8b07-b7b9b4b324d0"
      },
      "source": [
        "hyperparam_space = {\r\n",
        "    'all_dtc__min_samples_split': [4,5,6,7,8,9,10],\r\n",
        "    'all_dtc__max_depth': [2,3,4,5,6,7],\r\n",
        "    'all_dtc__criterion': ['entropy', 'gini']\r\n",
        "    # 'all_dtc__max_features': \r\n",
        "\r\n",
        "    \r\n",
        "}\r\n",
        "\r\n",
        "rskf = RepeatedStratifiedKFold(random_state=2021) # cukup skf\r\n",
        "\r\n",
        "dtcgridsearch = GridSearchCV(dtc_pipe_all_tuned, hyperparam_space, scoring='recall', n_jobs=-1, cv=rskf, verbose = 1, )\r\n",
        "dtcgridsearch.fit(X_train_val, y_train_val)"
      ],
      "execution_count": 70,
      "outputs": [
        {
          "output_type": "stream",
          "text": [
            "[Parallel(n_jobs=-1)]: Using backend LokyBackend with 2 concurrent workers.\n"
          ],
          "name": "stderr"
        },
        {
          "output_type": "stream",
          "text": [
            "Fitting 50 folds for each of 84 candidates, totalling 4200 fits\n"
          ],
          "name": "stdout"
        },
        {
          "output_type": "stream",
          "text": [
            "[Parallel(n_jobs=-1)]: Done  46 tasks      | elapsed:   16.6s\n",
            "[Parallel(n_jobs=-1)]: Done 196 tasks      | elapsed:  1.2min\n",
            "[Parallel(n_jobs=-1)]: Done 446 tasks      | elapsed:  2.7min\n",
            "[Parallel(n_jobs=-1)]: Done 796 tasks      | elapsed:  4.8min\n",
            "[Parallel(n_jobs=-1)]: Done 1246 tasks      | elapsed:  7.5min\n",
            "[Parallel(n_jobs=-1)]: Done 1796 tasks      | elapsed: 10.8min\n",
            "[Parallel(n_jobs=-1)]: Done 2446 tasks      | elapsed: 14.8min\n",
            "[Parallel(n_jobs=-1)]: Done 3196 tasks      | elapsed: 19.3min\n",
            "[Parallel(n_jobs=-1)]: Done 4046 tasks      | elapsed: 24.5min\n",
            "[Parallel(n_jobs=-1)]: Done 4200 out of 4200 | elapsed: 25.4min finished\n"
          ],
          "name": "stderr"
        },
        {
          "output_type": "execute_result",
          "data": {
            "text/plain": [
              "GridSearchCV(cv=RepeatedStratifiedKFold(n_repeats=10, n_splits=5, random_state=2021),\n",
              "             error_score=nan,\n",
              "             estimator=Pipeline(memory=None,\n",
              "                                steps=[('transformer',\n",
              "                                        ColumnTransformer(n_jobs=None,\n",
              "                                                          remainder='passthrough',\n",
              "                                                          sparse_threshold=0.3,\n",
              "                                                          transformer_weights=None,\n",
              "                                                          transformers=[('num',\n",
              "                                                                         Pipeline(memory=None,\n",
              "                                                                                  steps=[('scaler',\n",
              "                                                                                          RobustScaler(copy=True,\n",
              "                                                                                                       quantile_range=(...\n",
              "                                                               min_weight_fraction_leaf=0.0,\n",
              "                                                               presort='deprecated',\n",
              "                                                               random_state=2021,\n",
              "                                                               splitter='best'))],\n",
              "                                verbose=False),\n",
              "             iid='deprecated', n_jobs=-1,\n",
              "             param_grid={'all_dtc__criterion': ['entropy', 'gini'],\n",
              "                         'all_dtc__max_depth': [2, 3, 4, 5, 6, 7],\n",
              "                         'all_dtc__min_samples_split': [4, 5, 6, 7, 8, 9, 10]},\n",
              "             pre_dispatch='2*n_jobs', refit=True, return_train_score=False,\n",
              "             scoring='recall', verbose=1)"
            ]
          },
          "metadata": {
            "tags": []
          },
          "execution_count": 70
        }
      ]
    },
    {
      "cell_type": "code",
      "metadata": {
        "colab": {
          "base_uri": "https://localhost:8080/"
        },
        "id": "duUfcVE7EPuc",
        "outputId": "11137f01-224b-44e3-c44c-beb13e23f429"
      },
      "source": [
        "dtcgridsearch.best_params_"
      ],
      "execution_count": 71,
      "outputs": [
        {
          "output_type": "execute_result",
          "data": {
            "text/plain": [
              "{'all_dtc__criterion': 'entropy',\n",
              " 'all_dtc__max_depth': 2,\n",
              " 'all_dtc__min_samples_split': 4}"
            ]
          },
          "metadata": {
            "tags": []
          },
          "execution_count": 71
        }
      ]
    },
    {
      "cell_type": "code",
      "metadata": {
        "colab": {
          "base_uri": "https://localhost:8080/"
        },
        "id": "oAu77xPjNQTK",
        "outputId": "0bc106f0-9d41-4c64-d834-f805fa320fe5"
      },
      "source": [
        "dtcgridsearch.best_estimator_"
      ],
      "execution_count": 72,
      "outputs": [
        {
          "output_type": "execute_result",
          "data": {
            "text/plain": [
              "Pipeline(memory=None,\n",
              "         steps=[('transformer',\n",
              "                 ColumnTransformer(n_jobs=None, remainder='passthrough',\n",
              "                                   sparse_threshold=0.3,\n",
              "                                   transformer_weights=None,\n",
              "                                   transformers=[('num',\n",
              "                                                  Pipeline(memory=None,\n",
              "                                                           steps=[('scaler',\n",
              "                                                                   RobustScaler(copy=True,\n",
              "                                                                                quantile_range=(25.0,\n",
              "                                                                                                75.0),\n",
              "                                                                                with_centering=True,\n",
              "                                                                                with_scaling=True))],\n",
              "                                                           verbose=False),\n",
              "                                                  ['city_development_index']),\n",
              "                                                 ('poly',\n",
              "                                                  Polyno...\n",
              "                                  score_func=<function f_classif at 0x7ff04576b950>)),\n",
              "                ('all_dtc',\n",
              "                 DecisionTreeClassifier(ccp_alpha=0.0, class_weight='balanced',\n",
              "                                        criterion='entropy', max_depth=2,\n",
              "                                        max_features=None, max_leaf_nodes=None,\n",
              "                                        min_impurity_decrease=0.0,\n",
              "                                        min_impurity_split=None,\n",
              "                                        min_samples_leaf=1, min_samples_split=4,\n",
              "                                        min_weight_fraction_leaf=0.0,\n",
              "                                        presort='deprecated', random_state=2021,\n",
              "                                        splitter='best'))],\n",
              "         verbose=False)"
            ]
          },
          "metadata": {
            "tags": []
          },
          "execution_count": 72
        }
      ]
    },
    {
      "cell_type": "code",
      "metadata": {
        "colab": {
          "base_uri": "https://localhost:8080/",
          "height": 400
        },
        "id": "1Mf7qB72NdIH",
        "outputId": "e4bd680f-aee4-4449-d057-e4d46dfcce7f"
      },
      "source": [
        "cv_res_df = pd.DataFrame(dtcgridsearch.cv_results_)\r\n",
        "cv_res_df[cv_res_df['rank_test_score'] == 1].head()"
      ],
      "execution_count": 73,
      "outputs": [
        {
          "output_type": "execute_result",
          "data": {
            "text/html": [
              "<div>\n",
              "<style scoped>\n",
              "    .dataframe tbody tr th:only-of-type {\n",
              "        vertical-align: middle;\n",
              "    }\n",
              "\n",
              "    .dataframe tbody tr th {\n",
              "        vertical-align: top;\n",
              "    }\n",
              "\n",
              "    .dataframe thead th {\n",
              "        text-align: right;\n",
              "    }\n",
              "</style>\n",
              "<table border=\"1\" class=\"dataframe\">\n",
              "  <thead>\n",
              "    <tr style=\"text-align: right;\">\n",
              "      <th></th>\n",
              "      <th>mean_fit_time</th>\n",
              "      <th>std_fit_time</th>\n",
              "      <th>mean_score_time</th>\n",
              "      <th>std_score_time</th>\n",
              "      <th>param_all_dtc__criterion</th>\n",
              "      <th>param_all_dtc__max_depth</th>\n",
              "      <th>param_all_dtc__min_samples_split</th>\n",
              "      <th>params</th>\n",
              "      <th>split0_test_score</th>\n",
              "      <th>split1_test_score</th>\n",
              "      <th>split2_test_score</th>\n",
              "      <th>split3_test_score</th>\n",
              "      <th>split4_test_score</th>\n",
              "      <th>split5_test_score</th>\n",
              "      <th>split6_test_score</th>\n",
              "      <th>split7_test_score</th>\n",
              "      <th>split8_test_score</th>\n",
              "      <th>split9_test_score</th>\n",
              "      <th>split10_test_score</th>\n",
              "      <th>split11_test_score</th>\n",
              "      <th>split12_test_score</th>\n",
              "      <th>split13_test_score</th>\n",
              "      <th>split14_test_score</th>\n",
              "      <th>split15_test_score</th>\n",
              "      <th>split16_test_score</th>\n",
              "      <th>split17_test_score</th>\n",
              "      <th>split18_test_score</th>\n",
              "      <th>split19_test_score</th>\n",
              "      <th>split20_test_score</th>\n",
              "      <th>split21_test_score</th>\n",
              "      <th>split22_test_score</th>\n",
              "      <th>split23_test_score</th>\n",
              "      <th>split24_test_score</th>\n",
              "      <th>split25_test_score</th>\n",
              "      <th>split26_test_score</th>\n",
              "      <th>split27_test_score</th>\n",
              "      <th>split28_test_score</th>\n",
              "      <th>split29_test_score</th>\n",
              "      <th>split30_test_score</th>\n",
              "      <th>split31_test_score</th>\n",
              "      <th>split32_test_score</th>\n",
              "      <th>split33_test_score</th>\n",
              "      <th>split34_test_score</th>\n",
              "      <th>split35_test_score</th>\n",
              "      <th>split36_test_score</th>\n",
              "      <th>split37_test_score</th>\n",
              "      <th>split38_test_score</th>\n",
              "      <th>split39_test_score</th>\n",
              "      <th>split40_test_score</th>\n",
              "      <th>split41_test_score</th>\n",
              "      <th>split42_test_score</th>\n",
              "      <th>split43_test_score</th>\n",
              "      <th>split44_test_score</th>\n",
              "      <th>split45_test_score</th>\n",
              "      <th>split46_test_score</th>\n",
              "      <th>split47_test_score</th>\n",
              "      <th>split48_test_score</th>\n",
              "      <th>split49_test_score</th>\n",
              "      <th>mean_test_score</th>\n",
              "      <th>std_test_score</th>\n",
              "      <th>rank_test_score</th>\n",
              "    </tr>\n",
              "  </thead>\n",
              "  <tbody>\n",
              "    <tr>\n",
              "      <th>0</th>\n",
              "      <td>0.629660</td>\n",
              "      <td>0.020099</td>\n",
              "      <td>0.057833</td>\n",
              "      <td>0.006210</td>\n",
              "      <td>entropy</td>\n",
              "      <td>2</td>\n",
              "      <td>4</td>\n",
              "      <td>{'all_dtc__criterion': 'entropy', 'all_dtc__ma...</td>\n",
              "      <td>0.801307</td>\n",
              "      <td>0.819608</td>\n",
              "      <td>0.854712</td>\n",
              "      <td>0.842932</td>\n",
              "      <td>0.848168</td>\n",
              "      <td>0.837908</td>\n",
              "      <td>0.849673</td>\n",
              "      <td>0.831152</td>\n",
              "      <td>0.816754</td>\n",
              "      <td>0.831152</td>\n",
              "      <td>0.827451</td>\n",
              "      <td>0.833987</td>\n",
              "      <td>0.824607</td>\n",
              "      <td>0.848168</td>\n",
              "      <td>0.832461</td>\n",
              "      <td>0.813072</td>\n",
              "      <td>0.83268</td>\n",
              "      <td>0.827225</td>\n",
              "      <td>0.856021</td>\n",
              "      <td>0.837696</td>\n",
              "      <td>0.831373</td>\n",
              "      <td>0.85098</td>\n",
              "      <td>0.828534</td>\n",
              "      <td>0.825916</td>\n",
              "      <td>0.829843</td>\n",
              "      <td>0.847059</td>\n",
              "      <td>0.818301</td>\n",
              "      <td>0.808901</td>\n",
              "      <td>0.447644</td>\n",
              "      <td>0.849476</td>\n",
              "      <td>0.840523</td>\n",
              "      <td>0.827451</td>\n",
              "      <td>0.840314</td>\n",
              "      <td>0.837696</td>\n",
              "      <td>0.820681</td>\n",
              "      <td>0.861438</td>\n",
              "      <td>0.83268</td>\n",
              "      <td>0.814136</td>\n",
              "      <td>0.82199</td>\n",
              "      <td>0.836387</td>\n",
              "      <td>0.853595</td>\n",
              "      <td>0.420915</td>\n",
              "      <td>0.837696</td>\n",
              "      <td>0.825916</td>\n",
              "      <td>0.83377</td>\n",
              "      <td>0.852288</td>\n",
              "      <td>0.827451</td>\n",
              "      <td>0.824607</td>\n",
              "      <td>0.842932</td>\n",
              "      <td>0.439791</td>\n",
              "      <td>0.80994</td>\n",
              "      <td>0.095348</td>\n",
              "      <td>1</td>\n",
              "    </tr>\n",
              "    <tr>\n",
              "      <th>1</th>\n",
              "      <td>0.624894</td>\n",
              "      <td>0.020413</td>\n",
              "      <td>0.057953</td>\n",
              "      <td>0.005726</td>\n",
              "      <td>entropy</td>\n",
              "      <td>2</td>\n",
              "      <td>5</td>\n",
              "      <td>{'all_dtc__criterion': 'entropy', 'all_dtc__ma...</td>\n",
              "      <td>0.801307</td>\n",
              "      <td>0.819608</td>\n",
              "      <td>0.854712</td>\n",
              "      <td>0.842932</td>\n",
              "      <td>0.848168</td>\n",
              "      <td>0.837908</td>\n",
              "      <td>0.849673</td>\n",
              "      <td>0.831152</td>\n",
              "      <td>0.816754</td>\n",
              "      <td>0.831152</td>\n",
              "      <td>0.827451</td>\n",
              "      <td>0.833987</td>\n",
              "      <td>0.824607</td>\n",
              "      <td>0.848168</td>\n",
              "      <td>0.832461</td>\n",
              "      <td>0.813072</td>\n",
              "      <td>0.83268</td>\n",
              "      <td>0.827225</td>\n",
              "      <td>0.856021</td>\n",
              "      <td>0.837696</td>\n",
              "      <td>0.831373</td>\n",
              "      <td>0.85098</td>\n",
              "      <td>0.828534</td>\n",
              "      <td>0.825916</td>\n",
              "      <td>0.829843</td>\n",
              "      <td>0.847059</td>\n",
              "      <td>0.818301</td>\n",
              "      <td>0.808901</td>\n",
              "      <td>0.447644</td>\n",
              "      <td>0.849476</td>\n",
              "      <td>0.840523</td>\n",
              "      <td>0.827451</td>\n",
              "      <td>0.840314</td>\n",
              "      <td>0.837696</td>\n",
              "      <td>0.820681</td>\n",
              "      <td>0.861438</td>\n",
              "      <td>0.83268</td>\n",
              "      <td>0.814136</td>\n",
              "      <td>0.82199</td>\n",
              "      <td>0.836387</td>\n",
              "      <td>0.853595</td>\n",
              "      <td>0.420915</td>\n",
              "      <td>0.837696</td>\n",
              "      <td>0.825916</td>\n",
              "      <td>0.83377</td>\n",
              "      <td>0.852288</td>\n",
              "      <td>0.827451</td>\n",
              "      <td>0.824607</td>\n",
              "      <td>0.842932</td>\n",
              "      <td>0.439791</td>\n",
              "      <td>0.80994</td>\n",
              "      <td>0.095348</td>\n",
              "      <td>1</td>\n",
              "    </tr>\n",
              "    <tr>\n",
              "      <th>2</th>\n",
              "      <td>0.620653</td>\n",
              "      <td>0.017617</td>\n",
              "      <td>0.057509</td>\n",
              "      <td>0.005448</td>\n",
              "      <td>entropy</td>\n",
              "      <td>2</td>\n",
              "      <td>6</td>\n",
              "      <td>{'all_dtc__criterion': 'entropy', 'all_dtc__ma...</td>\n",
              "      <td>0.801307</td>\n",
              "      <td>0.819608</td>\n",
              "      <td>0.854712</td>\n",
              "      <td>0.842932</td>\n",
              "      <td>0.848168</td>\n",
              "      <td>0.837908</td>\n",
              "      <td>0.849673</td>\n",
              "      <td>0.831152</td>\n",
              "      <td>0.816754</td>\n",
              "      <td>0.831152</td>\n",
              "      <td>0.827451</td>\n",
              "      <td>0.833987</td>\n",
              "      <td>0.824607</td>\n",
              "      <td>0.848168</td>\n",
              "      <td>0.832461</td>\n",
              "      <td>0.813072</td>\n",
              "      <td>0.83268</td>\n",
              "      <td>0.827225</td>\n",
              "      <td>0.856021</td>\n",
              "      <td>0.837696</td>\n",
              "      <td>0.831373</td>\n",
              "      <td>0.85098</td>\n",
              "      <td>0.828534</td>\n",
              "      <td>0.825916</td>\n",
              "      <td>0.829843</td>\n",
              "      <td>0.847059</td>\n",
              "      <td>0.818301</td>\n",
              "      <td>0.808901</td>\n",
              "      <td>0.447644</td>\n",
              "      <td>0.849476</td>\n",
              "      <td>0.840523</td>\n",
              "      <td>0.827451</td>\n",
              "      <td>0.840314</td>\n",
              "      <td>0.837696</td>\n",
              "      <td>0.820681</td>\n",
              "      <td>0.861438</td>\n",
              "      <td>0.83268</td>\n",
              "      <td>0.814136</td>\n",
              "      <td>0.82199</td>\n",
              "      <td>0.836387</td>\n",
              "      <td>0.853595</td>\n",
              "      <td>0.420915</td>\n",
              "      <td>0.837696</td>\n",
              "      <td>0.825916</td>\n",
              "      <td>0.83377</td>\n",
              "      <td>0.852288</td>\n",
              "      <td>0.827451</td>\n",
              "      <td>0.824607</td>\n",
              "      <td>0.842932</td>\n",
              "      <td>0.439791</td>\n",
              "      <td>0.80994</td>\n",
              "      <td>0.095348</td>\n",
              "      <td>1</td>\n",
              "    </tr>\n",
              "    <tr>\n",
              "      <th>3</th>\n",
              "      <td>0.634018</td>\n",
              "      <td>0.023645</td>\n",
              "      <td>0.057724</td>\n",
              "      <td>0.005675</td>\n",
              "      <td>entropy</td>\n",
              "      <td>2</td>\n",
              "      <td>7</td>\n",
              "      <td>{'all_dtc__criterion': 'entropy', 'all_dtc__ma...</td>\n",
              "      <td>0.801307</td>\n",
              "      <td>0.819608</td>\n",
              "      <td>0.854712</td>\n",
              "      <td>0.842932</td>\n",
              "      <td>0.848168</td>\n",
              "      <td>0.837908</td>\n",
              "      <td>0.849673</td>\n",
              "      <td>0.831152</td>\n",
              "      <td>0.816754</td>\n",
              "      <td>0.831152</td>\n",
              "      <td>0.827451</td>\n",
              "      <td>0.833987</td>\n",
              "      <td>0.824607</td>\n",
              "      <td>0.848168</td>\n",
              "      <td>0.832461</td>\n",
              "      <td>0.813072</td>\n",
              "      <td>0.83268</td>\n",
              "      <td>0.827225</td>\n",
              "      <td>0.856021</td>\n",
              "      <td>0.837696</td>\n",
              "      <td>0.831373</td>\n",
              "      <td>0.85098</td>\n",
              "      <td>0.828534</td>\n",
              "      <td>0.825916</td>\n",
              "      <td>0.829843</td>\n",
              "      <td>0.847059</td>\n",
              "      <td>0.818301</td>\n",
              "      <td>0.808901</td>\n",
              "      <td>0.447644</td>\n",
              "      <td>0.849476</td>\n",
              "      <td>0.840523</td>\n",
              "      <td>0.827451</td>\n",
              "      <td>0.840314</td>\n",
              "      <td>0.837696</td>\n",
              "      <td>0.820681</td>\n",
              "      <td>0.861438</td>\n",
              "      <td>0.83268</td>\n",
              "      <td>0.814136</td>\n",
              "      <td>0.82199</td>\n",
              "      <td>0.836387</td>\n",
              "      <td>0.853595</td>\n",
              "      <td>0.420915</td>\n",
              "      <td>0.837696</td>\n",
              "      <td>0.825916</td>\n",
              "      <td>0.83377</td>\n",
              "      <td>0.852288</td>\n",
              "      <td>0.827451</td>\n",
              "      <td>0.824607</td>\n",
              "      <td>0.842932</td>\n",
              "      <td>0.439791</td>\n",
              "      <td>0.80994</td>\n",
              "      <td>0.095348</td>\n",
              "      <td>1</td>\n",
              "    </tr>\n",
              "    <tr>\n",
              "      <th>4</th>\n",
              "      <td>0.637459</td>\n",
              "      <td>0.017254</td>\n",
              "      <td>0.058122</td>\n",
              "      <td>0.006033</td>\n",
              "      <td>entropy</td>\n",
              "      <td>2</td>\n",
              "      <td>8</td>\n",
              "      <td>{'all_dtc__criterion': 'entropy', 'all_dtc__ma...</td>\n",
              "      <td>0.801307</td>\n",
              "      <td>0.819608</td>\n",
              "      <td>0.854712</td>\n",
              "      <td>0.842932</td>\n",
              "      <td>0.848168</td>\n",
              "      <td>0.837908</td>\n",
              "      <td>0.849673</td>\n",
              "      <td>0.831152</td>\n",
              "      <td>0.816754</td>\n",
              "      <td>0.831152</td>\n",
              "      <td>0.827451</td>\n",
              "      <td>0.833987</td>\n",
              "      <td>0.824607</td>\n",
              "      <td>0.848168</td>\n",
              "      <td>0.832461</td>\n",
              "      <td>0.813072</td>\n",
              "      <td>0.83268</td>\n",
              "      <td>0.827225</td>\n",
              "      <td>0.856021</td>\n",
              "      <td>0.837696</td>\n",
              "      <td>0.831373</td>\n",
              "      <td>0.85098</td>\n",
              "      <td>0.828534</td>\n",
              "      <td>0.825916</td>\n",
              "      <td>0.829843</td>\n",
              "      <td>0.847059</td>\n",
              "      <td>0.818301</td>\n",
              "      <td>0.808901</td>\n",
              "      <td>0.447644</td>\n",
              "      <td>0.849476</td>\n",
              "      <td>0.840523</td>\n",
              "      <td>0.827451</td>\n",
              "      <td>0.840314</td>\n",
              "      <td>0.837696</td>\n",
              "      <td>0.820681</td>\n",
              "      <td>0.861438</td>\n",
              "      <td>0.83268</td>\n",
              "      <td>0.814136</td>\n",
              "      <td>0.82199</td>\n",
              "      <td>0.836387</td>\n",
              "      <td>0.853595</td>\n",
              "      <td>0.420915</td>\n",
              "      <td>0.837696</td>\n",
              "      <td>0.825916</td>\n",
              "      <td>0.83377</td>\n",
              "      <td>0.852288</td>\n",
              "      <td>0.827451</td>\n",
              "      <td>0.824607</td>\n",
              "      <td>0.842932</td>\n",
              "      <td>0.439791</td>\n",
              "      <td>0.80994</td>\n",
              "      <td>0.095348</td>\n",
              "      <td>1</td>\n",
              "    </tr>\n",
              "  </tbody>\n",
              "</table>\n",
              "</div>"
            ],
            "text/plain": [
              "   mean_fit_time  std_fit_time  mean_score_time  std_score_time  \\\n",
              "0       0.629660      0.020099         0.057833        0.006210   \n",
              "1       0.624894      0.020413         0.057953        0.005726   \n",
              "2       0.620653      0.017617         0.057509        0.005448   \n",
              "3       0.634018      0.023645         0.057724        0.005675   \n",
              "4       0.637459      0.017254         0.058122        0.006033   \n",
              "\n",
              "  param_all_dtc__criterion param_all_dtc__max_depth  \\\n",
              "0                  entropy                        2   \n",
              "1                  entropy                        2   \n",
              "2                  entropy                        2   \n",
              "3                  entropy                        2   \n",
              "4                  entropy                        2   \n",
              "\n",
              "  param_all_dtc__min_samples_split  \\\n",
              "0                                4   \n",
              "1                                5   \n",
              "2                                6   \n",
              "3                                7   \n",
              "4                                8   \n",
              "\n",
              "                                              params  split0_test_score  \\\n",
              "0  {'all_dtc__criterion': 'entropy', 'all_dtc__ma...           0.801307   \n",
              "1  {'all_dtc__criterion': 'entropy', 'all_dtc__ma...           0.801307   \n",
              "2  {'all_dtc__criterion': 'entropy', 'all_dtc__ma...           0.801307   \n",
              "3  {'all_dtc__criterion': 'entropy', 'all_dtc__ma...           0.801307   \n",
              "4  {'all_dtc__criterion': 'entropy', 'all_dtc__ma...           0.801307   \n",
              "\n",
              "   split1_test_score  split2_test_score  split3_test_score  split4_test_score  \\\n",
              "0           0.819608           0.854712           0.842932           0.848168   \n",
              "1           0.819608           0.854712           0.842932           0.848168   \n",
              "2           0.819608           0.854712           0.842932           0.848168   \n",
              "3           0.819608           0.854712           0.842932           0.848168   \n",
              "4           0.819608           0.854712           0.842932           0.848168   \n",
              "\n",
              "   split5_test_score  split6_test_score  split7_test_score  split8_test_score  \\\n",
              "0           0.837908           0.849673           0.831152           0.816754   \n",
              "1           0.837908           0.849673           0.831152           0.816754   \n",
              "2           0.837908           0.849673           0.831152           0.816754   \n",
              "3           0.837908           0.849673           0.831152           0.816754   \n",
              "4           0.837908           0.849673           0.831152           0.816754   \n",
              "\n",
              "   split9_test_score  split10_test_score  split11_test_score  \\\n",
              "0           0.831152            0.827451            0.833987   \n",
              "1           0.831152            0.827451            0.833987   \n",
              "2           0.831152            0.827451            0.833987   \n",
              "3           0.831152            0.827451            0.833987   \n",
              "4           0.831152            0.827451            0.833987   \n",
              "\n",
              "   split12_test_score  split13_test_score  split14_test_score  \\\n",
              "0            0.824607            0.848168            0.832461   \n",
              "1            0.824607            0.848168            0.832461   \n",
              "2            0.824607            0.848168            0.832461   \n",
              "3            0.824607            0.848168            0.832461   \n",
              "4            0.824607            0.848168            0.832461   \n",
              "\n",
              "   split15_test_score  split16_test_score  split17_test_score  \\\n",
              "0            0.813072             0.83268            0.827225   \n",
              "1            0.813072             0.83268            0.827225   \n",
              "2            0.813072             0.83268            0.827225   \n",
              "3            0.813072             0.83268            0.827225   \n",
              "4            0.813072             0.83268            0.827225   \n",
              "\n",
              "   split18_test_score  split19_test_score  split20_test_score  \\\n",
              "0            0.856021            0.837696            0.831373   \n",
              "1            0.856021            0.837696            0.831373   \n",
              "2            0.856021            0.837696            0.831373   \n",
              "3            0.856021            0.837696            0.831373   \n",
              "4            0.856021            0.837696            0.831373   \n",
              "\n",
              "   split21_test_score  split22_test_score  split23_test_score  \\\n",
              "0             0.85098            0.828534            0.825916   \n",
              "1             0.85098            0.828534            0.825916   \n",
              "2             0.85098            0.828534            0.825916   \n",
              "3             0.85098            0.828534            0.825916   \n",
              "4             0.85098            0.828534            0.825916   \n",
              "\n",
              "   split24_test_score  split25_test_score  split26_test_score  \\\n",
              "0            0.829843            0.847059            0.818301   \n",
              "1            0.829843            0.847059            0.818301   \n",
              "2            0.829843            0.847059            0.818301   \n",
              "3            0.829843            0.847059            0.818301   \n",
              "4            0.829843            0.847059            0.818301   \n",
              "\n",
              "   split27_test_score  split28_test_score  split29_test_score  \\\n",
              "0            0.808901            0.447644            0.849476   \n",
              "1            0.808901            0.447644            0.849476   \n",
              "2            0.808901            0.447644            0.849476   \n",
              "3            0.808901            0.447644            0.849476   \n",
              "4            0.808901            0.447644            0.849476   \n",
              "\n",
              "   split30_test_score  split31_test_score  split32_test_score  \\\n",
              "0            0.840523            0.827451            0.840314   \n",
              "1            0.840523            0.827451            0.840314   \n",
              "2            0.840523            0.827451            0.840314   \n",
              "3            0.840523            0.827451            0.840314   \n",
              "4            0.840523            0.827451            0.840314   \n",
              "\n",
              "   split33_test_score  split34_test_score  split35_test_score  \\\n",
              "0            0.837696            0.820681            0.861438   \n",
              "1            0.837696            0.820681            0.861438   \n",
              "2            0.837696            0.820681            0.861438   \n",
              "3            0.837696            0.820681            0.861438   \n",
              "4            0.837696            0.820681            0.861438   \n",
              "\n",
              "   split36_test_score  split37_test_score  split38_test_score  \\\n",
              "0             0.83268            0.814136             0.82199   \n",
              "1             0.83268            0.814136             0.82199   \n",
              "2             0.83268            0.814136             0.82199   \n",
              "3             0.83268            0.814136             0.82199   \n",
              "4             0.83268            0.814136             0.82199   \n",
              "\n",
              "   split39_test_score  split40_test_score  split41_test_score  \\\n",
              "0            0.836387            0.853595            0.420915   \n",
              "1            0.836387            0.853595            0.420915   \n",
              "2            0.836387            0.853595            0.420915   \n",
              "3            0.836387            0.853595            0.420915   \n",
              "4            0.836387            0.853595            0.420915   \n",
              "\n",
              "   split42_test_score  split43_test_score  split44_test_score  \\\n",
              "0            0.837696            0.825916             0.83377   \n",
              "1            0.837696            0.825916             0.83377   \n",
              "2            0.837696            0.825916             0.83377   \n",
              "3            0.837696            0.825916             0.83377   \n",
              "4            0.837696            0.825916             0.83377   \n",
              "\n",
              "   split45_test_score  split46_test_score  split47_test_score  \\\n",
              "0            0.852288            0.827451            0.824607   \n",
              "1            0.852288            0.827451            0.824607   \n",
              "2            0.852288            0.827451            0.824607   \n",
              "3            0.852288            0.827451            0.824607   \n",
              "4            0.852288            0.827451            0.824607   \n",
              "\n",
              "   split48_test_score  split49_test_score  mean_test_score  std_test_score  \\\n",
              "0            0.842932            0.439791          0.80994        0.095348   \n",
              "1            0.842932            0.439791          0.80994        0.095348   \n",
              "2            0.842932            0.439791          0.80994        0.095348   \n",
              "3            0.842932            0.439791          0.80994        0.095348   \n",
              "4            0.842932            0.439791          0.80994        0.095348   \n",
              "\n",
              "   rank_test_score  \n",
              "0                1  \n",
              "1                1  \n",
              "2                1  \n",
              "3                1  \n",
              "4                1  "
            ]
          },
          "metadata": {
            "tags": []
          },
          "execution_count": 73
        }
      ]
    },
    {
      "cell_type": "code",
      "metadata": {
        "id": "PWj-XX9pN1OX"
      },
      "source": [
        "dtc_default = dtc_pipe_all.fit(X_train_val, y_train_val)\r\n",
        "y_pred_dtc = dtc_default.predict(X_test) "
      ],
      "execution_count": 74,
      "outputs": []
    },
    {
      "cell_type": "code",
      "metadata": {
        "colab": {
          "base_uri": "https://localhost:8080/"
        },
        "id": "J5x4VY3hONAH",
        "outputId": "85122807-b075-473f-be06-3b1c7559962a"
      },
      "source": [
        "print(classification_report(y_test, y_pred_dtc))"
      ],
      "execution_count": 75,
      "outputs": [
        {
          "output_type": "stream",
          "text": [
            "              precision    recall  f1-score   support\n",
            "\n",
            "           0       0.83      0.77      0.80      2877\n",
            "           1       0.43      0.51      0.47       955\n",
            "\n",
            "    accuracy                           0.71      3832\n",
            "   macro avg       0.63      0.64      0.63      3832\n",
            "weighted avg       0.73      0.71      0.72      3832\n",
            "\n"
          ],
          "name": "stdout"
        }
      ]
    },
    {
      "cell_type": "code",
      "metadata": {
        "colab": {
          "base_uri": "https://localhost:8080/",
          "height": 298
        },
        "id": "ok8USRq1OPnu",
        "outputId": "9caa136e-a9db-4d5e-ca82-f97e6e8701ea"
      },
      "source": [
        "plot_confusion_matrix(dtc_default, X_test, y_test, values_format='.0f')"
      ],
      "execution_count": 76,
      "outputs": [
        {
          "output_type": "execute_result",
          "data": {
            "text/plain": [
              "<sklearn.metrics._plot.confusion_matrix.ConfusionMatrixDisplay at 0x7ff03a348210>"
            ]
          },
          "metadata": {
            "tags": []
          },
          "execution_count": 76
        },
        {
          "output_type": "display_data",
          "data": {
            "image/png": "[encoded data removed]",
            "text/plain": [
              "<Figure size 432x288 with 2 Axes>"
            ]
          },
          "metadata": {
            "tags": [],
            "needs_background": "light"
          }
        }
      ]
    },
    {
      "cell_type": "code",
      "metadata": {
        "colab": {
          "base_uri": "https://localhost:8080/"
        },
        "id": "tsUXhGduAkbb",
        "outputId": "1cd8e108-8867-49b4-c55c-3fb3cf6dbdd4"
      },
      "source": [
        "print(\"Candidates who predicted not change job but actually do:\", round(468/(2229+468)*100,2),\"%\")\r\n",
        "print(\"Candidates who predicted change job but actually not :\", round(648/(487+648)*100,2),\"%\")"
      ],
      "execution_count": 88,
      "outputs": [
        {
          "output_type": "stream",
          "text": [
            "Candidates who predicted not change job but actually do: 17.35 %\n",
            "Candidates who predicted change job but actually not : 57.09 %\n"
          ],
          "name": "stdout"
        }
      ]
    },
    {
      "cell_type": "code",
      "metadata": {
        "id": "BEEZKwYGOdJP"
      },
      "source": [
        "dtc_tuned = dtcgridsearch.best_estimator_.fit(X_train_val, y_train_val)\r\n",
        "y_pred_dtc_tuned = dtc_tuned.predict(X_test)"
      ],
      "execution_count": 77,
      "outputs": []
    },
    {
      "cell_type": "code",
      "metadata": {
        "colab": {
          "base_uri": "https://localhost:8080/"
        },
        "id": "WkKNQ3ZnPeTn",
        "outputId": "03c01c62-961d-49b2-86bd-97ff91876ca6"
      },
      "source": [
        "print(classification_report(y_test, y_pred_dtc_tuned))"
      ],
      "execution_count": 78,
      "outputs": [
        {
          "output_type": "stream",
          "text": [
            "              precision    recall  f1-score   support\n",
            "\n",
            "           0       0.90      0.54      0.68      2877\n",
            "           1       0.37      0.81      0.51       955\n",
            "\n",
            "    accuracy                           0.61      3832\n",
            "   macro avg       0.63      0.68      0.59      3832\n",
            "weighted avg       0.77      0.61      0.63      3832\n",
            "\n"
          ],
          "name": "stdout"
        }
      ]
    },
    {
      "cell_type": "markdown",
      "metadata": {
        "id": "A7EL6-IrUZ9b"
      },
      "source": [
        "After said model undergo hyperparameter tuning, the 'recall' score of said model is increasing dramatically, which became 0.81 when gets predicted to the X_test."
      ]
    },
    {
      "cell_type": "code",
      "metadata": {
        "colab": {
          "base_uri": "https://localhost:8080/",
          "height": 297
        },
        "id": "MFW4pBM_Pgy-",
        "outputId": "2e1d805d-4f8d-4b1b-c9a6-a25a9a91793e"
      },
      "source": [
        "plot_confusion_matrix(dtc_tuned, X_test, y_test, values_format='.0f')"
      ],
      "execution_count": 79,
      "outputs": [
        {
          "output_type": "execute_result",
          "data": {
            "text/plain": [
              "<sklearn.metrics._plot.confusion_matrix.ConfusionMatrixDisplay at 0x7ff03920a4d0>"
            ]
          },
          "metadata": {
            "tags": []
          },
          "execution_count": 79
        },
        {
          "output_type": "display_data",
          "data": {
            "image/png": "[encoded data removed]",
            "text/plain": [
              "<Figure size 432x288 with 2 Axes>"
            ]
          },
          "metadata": {
            "tags": [],
            "needs_background": "light"
          }
        }
      ]
    },
    {
      "cell_type": "code",
      "metadata": {
        "colab": {
          "base_uri": "https://localhost:8080/"
        },
        "id": "_5qPEvtTBzpK",
        "outputId": "f05975f5-a29f-4264-da2e-c74ccf573bd4"
      },
      "source": [
        "print(\"Candidates who predicted not change job but actually do:\", round(179/(1560+179)*100,2),\"%\")\r\n",
        "print(\"Candidates who predicted change job but actually not :\", round(1317/(776+1317)*100,2),\"%\")"
      ],
      "execution_count": 89,
      "outputs": [
        {
          "output_type": "stream",
          "text": [
            "Candidates who predicted not change job but actually do: 10.29 %\n",
            "Candidates who predicted change job but actually not : 62.92 %\n"
          ],
          "name": "stdout"
        }
      ]
    },
    {
      "cell_type": "code",
      "metadata": {
        "id": "u1uSPimgPmUn",
        "colab": {
          "base_uri": "https://localhost:8080/",
          "height": 297
        },
        "outputId": "825a6529-e33f-4e90-9c1c-9d5711eb74ce"
      },
      "source": [
        "plot_precision_recall_curve(dtc_tuned, X_test, y_test) # abis dari sini di calibrate"
      ],
      "execution_count": 80,
      "outputs": [
        {
          "output_type": "execute_result",
          "data": {
            "text/plain": [
              "<sklearn.metrics._plot.precision_recall_curve.PrecisionRecallDisplay at 0x7ff03911ac50>"
            ]
          },
          "metadata": {
            "tags": []
          },
          "execution_count": 80
        },
        {
          "output_type": "display_data",
          "data": {
            "image/png": "[encoded data removed]",
            "text/plain": [
              "<Figure size 432x288 with 1 Axes>"
            ]
          },
          "metadata": {
            "tags": [],
            "needs_background": "light"
          }
        }
      ]
    },
    {
      "cell_type": "code",
      "metadata": {
        "colab": {
          "base_uri": "https://localhost:8080/",
          "height": 175
        },
        "id": "ZBO171DbOlqn",
        "outputId": "2bf83b4e-12bb-4acd-d0ca-f1438b0c80a0"
      },
      "source": [
        "p, r, t = precision_recall_curve(y_test, dtc_tuned.predict_proba(X_test)[:,1])\r\n",
        "len(p[:-1]), len(r[:-1]), len(t)\r\n",
        "pr_df = pd.DataFrame({'precision': p[:-1], 'recall': r[:-1], 'threshold': t})\r\n",
        "pr_df"
      ],
      "execution_count": 81,
      "outputs": [
        {
          "output_type": "execute_result",
          "data": {
            "text/html": [
              "<div>\n",
              "<style scoped>\n",
              "    .dataframe tbody tr th:only-of-type {\n",
              "        vertical-align: middle;\n",
              "    }\n",
              "\n",
              "    .dataframe tbody tr th {\n",
              "        vertical-align: top;\n",
              "    }\n",
              "\n",
              "    .dataframe thead th {\n",
              "        text-align: right;\n",
              "    }\n",
              "</style>\n",
              "<table border=\"1\" class=\"dataframe\">\n",
              "  <thead>\n",
              "    <tr style=\"text-align: right;\">\n",
              "      <th></th>\n",
              "      <th>precision</th>\n",
              "      <th>recall</th>\n",
              "      <th>threshold</th>\n",
              "    </tr>\n",
              "  </thead>\n",
              "  <tbody>\n",
              "    <tr>\n",
              "      <th>0</th>\n",
              "      <td>0.249217</td>\n",
              "      <td>1.000000</td>\n",
              "      <td>0.240740</td>\n",
              "    </tr>\n",
              "    <tr>\n",
              "      <th>1</th>\n",
              "      <td>0.370760</td>\n",
              "      <td>0.812565</td>\n",
              "      <td>0.517110</td>\n",
              "    </tr>\n",
              "    <tr>\n",
              "      <th>2</th>\n",
              "      <td>0.563910</td>\n",
              "      <td>0.392670</td>\n",
              "      <td>0.767766</td>\n",
              "    </tr>\n",
              "    <tr>\n",
              "      <th>3</th>\n",
              "      <td>0.567921</td>\n",
              "      <td>0.363351</td>\n",
              "      <td>0.819758</td>\n",
              "    </tr>\n",
              "  </tbody>\n",
              "</table>\n",
              "</div>"
            ],
            "text/plain": [
              "   precision    recall  threshold\n",
              "0   0.249217  1.000000   0.240740\n",
              "1   0.370760  0.812565   0.517110\n",
              "2   0.563910  0.392670   0.767766\n",
              "3   0.567921  0.363351   0.819758"
            ]
          },
          "metadata": {
            "tags": []
          },
          "execution_count": 81
        }
      ]
    },
    {
      "cell_type": "code",
      "metadata": {
        "colab": {
          "base_uri": "https://localhost:8080/",
          "height": 49
        },
        "id": "JDbCfZi9Ow--",
        "outputId": "180bb06b-e8aa-49da-89e3-67a7b3b695da"
      },
      "source": [
        "pr_df[(pr_df['recall'].between(0.8, 0.91)) & (pr_df['precision'].between(0.43, 0.5))].head(20)"
      ],
      "execution_count": 82,
      "outputs": [
        {
          "output_type": "execute_result",
          "data": {
            "text/html": [
              "<div>\n",
              "<style scoped>\n",
              "    .dataframe tbody tr th:only-of-type {\n",
              "        vertical-align: middle;\n",
              "    }\n",
              "\n",
              "    .dataframe tbody tr th {\n",
              "        vertical-align: top;\n",
              "    }\n",
              "\n",
              "    .dataframe thead th {\n",
              "        text-align: right;\n",
              "    }\n",
              "</style>\n",
              "<table border=\"1\" class=\"dataframe\">\n",
              "  <thead>\n",
              "    <tr style=\"text-align: right;\">\n",
              "      <th></th>\n",
              "      <th>precision</th>\n",
              "      <th>recall</th>\n",
              "      <th>threshold</th>\n",
              "    </tr>\n",
              "  </thead>\n",
              "  <tbody>\n",
              "  </tbody>\n",
              "</table>\n",
              "</div>"
            ],
            "text/plain": [
              "Empty DataFrame\n",
              "Columns: [precision, recall, threshold]\n",
              "Index: []"
            ]
          },
          "metadata": {
            "tags": []
          },
          "execution_count": 82
        }
      ]
    },
    {
      "cell_type": "code",
      "metadata": {
        "colab": {
          "base_uri": "https://localhost:8080/",
          "height": 494
        },
        "id": "qEfXkHwgTQ6z",
        "outputId": "75513f19-3f13-4aa4-dff3-479ba1f48019"
      },
      "source": [
        "proba1 = dtc_tuned.predict_proba(X_test)[:,1]\r\n",
        "y_pred = dtc_tuned.predict(X_test)\r\n",
        "thresh =0.517110\r\n",
        "pred_051 = np.where(proba1 > thresh, 1, 0)\r\n",
        "res_df = pd.DataFrame({'proba1': proba1, 'y_pred': y_pred, 'y_pred051': pred_051})\r\n",
        "plt.figure(figsize=(16,8))\r\n",
        "plt.subplot(121)\r\n",
        "sns.scatterplot(x=range(len(res_df)), y=res_df['proba1'], hue=res_df['y_pred051'])\r\n",
        "plt.axhline(thresh, color='red')\r\n",
        "\r\n",
        "plt.subplot(122)\r\n",
        "sns.scatterplot(x=range(len(res_df)), y=res_df['proba1'], hue=res_df['y_pred'])\r\n",
        "plt.axhline(0.5, color='red')"
      ],
      "execution_count": 83,
      "outputs": [
        {
          "output_type": "execute_result",
          "data": {
            "text/plain": [
              "<matplotlib.lines.Line2D at 0x7ff038b39a90>"
            ]
          },
          "metadata": {
            "tags": []
          },
          "execution_count": 83
        },
        {
          "output_type": "display_data",
          "data": {
            "image/png": "[encoded data removed]",
            "text/plain": [
              "<Figure size 1152x576 with 2 Axes>"
            ]
          },
          "metadata": {
            "tags": [],
            "needs_background": "light"
          }
        }
      ]
    },
    {
      "cell_type": "code",
      "metadata": {
        "id": "HHm4C-wEZR0e"
      },
      "source": [
        "def make_conf_matrix(confusion):\r\n",
        "    tn, fp, fn, tp = confusion.flatten()\r\n",
        "    conf_df = pd.DataFrame({'p_0': [tn, fn, tn+fn], 'p_1': [fp, tp, fp+tp], 'total_actual': [tn+fp, fn+tp, tn+fn+tp+fp]},\r\n",
        "                           index=['a_0', 'a_1', 'total_prediction'])\r\n",
        "    return conf_df"
      ],
      "execution_count": 84,
      "outputs": []
    },
    {
      "cell_type": "code",
      "metadata": {
        "colab": {
          "base_uri": "https://localhost:8080/",
          "height": 143
        },
        "id": "DVT63qz7aYDZ",
        "outputId": "601e2e61-4111-4bca-dd13-129dad151229"
      },
      "source": [
        "make_conf_matrix(confusion_matrix(y_test, pred_051))"
      ],
      "execution_count": 85,
      "outputs": [
        {
          "output_type": "execute_result",
          "data": {
            "text/html": [
              "<div>\n",
              "<style scoped>\n",
              "    .dataframe tbody tr th:only-of-type {\n",
              "        vertical-align: middle;\n",
              "    }\n",
              "\n",
              "    .dataframe tbody tr th {\n",
              "        vertical-align: top;\n",
              "    }\n",
              "\n",
              "    .dataframe thead th {\n",
              "        text-align: right;\n",
              "    }\n",
              "</style>\n",
              "<table border=\"1\" class=\"dataframe\">\n",
              "  <thead>\n",
              "    <tr style=\"text-align: right;\">\n",
              "      <th></th>\n",
              "      <th>p_0</th>\n",
              "      <th>p_1</th>\n",
              "      <th>total_actual</th>\n",
              "    </tr>\n",
              "  </thead>\n",
              "  <tbody>\n",
              "    <tr>\n",
              "      <th>a_0</th>\n",
              "      <td>2587</td>\n",
              "      <td>290</td>\n",
              "      <td>2877</td>\n",
              "    </tr>\n",
              "    <tr>\n",
              "      <th>a_1</th>\n",
              "      <td>580</td>\n",
              "      <td>375</td>\n",
              "      <td>955</td>\n",
              "    </tr>\n",
              "    <tr>\n",
              "      <th>total_prediction</th>\n",
              "      <td>3167</td>\n",
              "      <td>665</td>\n",
              "      <td>3832</td>\n",
              "    </tr>\n",
              "  </tbody>\n",
              "</table>\n",
              "</div>"
            ],
            "text/plain": [
              "                   p_0  p_1  total_actual\n",
              "a_0               2587  290          2877\n",
              "a_1                580  375           955\n",
              "total_prediction  3167  665          3832"
            ]
          },
          "metadata": {
            "tags": []
          },
          "execution_count": 85
        }
      ]
    },
    {
      "cell_type": "markdown",
      "metadata": {
        "id": "AmgIHvoaUv_t"
      },
      "source": [
        "Conclusions:\r\n",
        "\r\n",
        "1. The machine learning model is able to help the company to reduce the cost and save time by reducing candidates who are going to alter their occupations.\r\n",
        "1. The result might be able to be improved by having more data on candidates who are going to alter their occupations.\r\n"
      ]
    },
    {
      "cell_type": "code",
      "metadata": {
        "id": "0utEy6nLadR4"
      },
      "source": [
        "import pickle"
      ],
      "execution_count": 86,
      "outputs": []
    },
    {
      "cell_type": "markdown",
      "metadata": {
        "id": "_CFf3JVmYGvw"
      },
      "source": [
        "The saved model stays in DTC tuned and fit to X, y. because after setting the threshold it gets even worse "
      ]
    },
    {
      "cell_type": "code",
      "metadata": {
        "id": "Ufu2nxEMYLfd"
      },
      "source": [
        "dtc_tuned.fit(X,y)\r\n",
        "filename = 'dtc_final.sav'\r\n",
        "pickle.dump(dtc_tuned, open(filename, 'wb'))"
      ],
      "execution_count": 87,
      "outputs": []
    },
    {
      "cell_type": "code",
      "metadata": {
        "id": "JK-yxUkPfMqx"
      },
      "source": [
        ""
      ],
      "execution_count": 87,
      "outputs": []
    }
  ]
}